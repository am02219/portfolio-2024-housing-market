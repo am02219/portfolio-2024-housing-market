{
 "cells": [
  {
   "cell_type": "code",
   "execution_count": 1,
   "id": "e2b960d2",
   "metadata": {},
   "outputs": [],
   "source": [
    "import pandas as pd\n",
    "import matplotlib.pyplot as plt\n",
    "import numpy as np\n",
    "import seaborn as sns"
   ]
  },
  {
   "cell_type": "code",
   "execution_count": 2,
   "id": "86cd4f3b",
   "metadata": {},
   "outputs": [],
   "source": [
    "df = pd.read_csv('data/housing.csv')"
   ]
  },
  {
   "cell_type": "code",
   "execution_count": 3,
   "id": "98c253f5",
   "metadata": {},
   "outputs": [
    {
     "data": {
      "text/html": [
       "<div>\n",
       "<style scoped>\n",
       "    .dataframe tbody tr th:only-of-type {\n",
       "        vertical-align: middle;\n",
       "    }\n",
       "\n",
       "    .dataframe tbody tr th {\n",
       "        vertical-align: top;\n",
       "    }\n",
       "\n",
       "    .dataframe thead th {\n",
       "        text-align: right;\n",
       "    }\n",
       "</style>\n",
       "<table border=\"1\" class=\"dataframe\">\n",
       "  <thead>\n",
       "    <tr style=\"text-align: right;\">\n",
       "      <th></th>\n",
       "      <th>Date</th>\n",
       "      <th>RegionName</th>\n",
       "      <th>AreaCode</th>\n",
       "      <th>AveragePrice</th>\n",
       "      <th>Index</th>\n",
       "      <th>IndexSA</th>\n",
       "      <th>1m%Change</th>\n",
       "      <th>12m%Change</th>\n",
       "      <th>AveragePriceSA</th>\n",
       "      <th>SalesVolume</th>\n",
       "      <th>...</th>\n",
       "      <th>NewPrice</th>\n",
       "      <th>NewIndex</th>\n",
       "      <th>New1m%Change</th>\n",
       "      <th>New12m%Change</th>\n",
       "      <th>NewSalesVolume</th>\n",
       "      <th>OldPrice</th>\n",
       "      <th>OldIndex</th>\n",
       "      <th>Old1m%Change</th>\n",
       "      <th>Old12m%Change</th>\n",
       "      <th>OldSalesVolume</th>\n",
       "    </tr>\n",
       "  </thead>\n",
       "  <tbody>\n",
       "    <tr>\n",
       "      <th>0</th>\n",
       "      <td>01/01/2004</td>\n",
       "      <td>Aberdeenshire</td>\n",
       "      <td>S12000034</td>\n",
       "      <td>81693.66964</td>\n",
       "      <td>40.864214</td>\n",
       "      <td>NaN</td>\n",
       "      <td>NaN</td>\n",
       "      <td>NaN</td>\n",
       "      <td>NaN</td>\n",
       "      <td>388.0</td>\n",
       "      <td>...</td>\n",
       "      <td>88436.13953</td>\n",
       "      <td>40.267250</td>\n",
       "      <td>NaN</td>\n",
       "      <td>NaN</td>\n",
       "      <td>103.0</td>\n",
       "      <td>81043.95084</td>\n",
       "      <td>40.883367</td>\n",
       "      <td>NaN</td>\n",
       "      <td>NaN</td>\n",
       "      <td>285.0</td>\n",
       "    </tr>\n",
       "    <tr>\n",
       "      <th>1</th>\n",
       "      <td>01/02/2004</td>\n",
       "      <td>Aberdeenshire</td>\n",
       "      <td>S12000034</td>\n",
       "      <td>81678.76231</td>\n",
       "      <td>40.856757</td>\n",
       "      <td>NaN</td>\n",
       "      <td>-0.018248</td>\n",
       "      <td>NaN</td>\n",
       "      <td>NaN</td>\n",
       "      <td>326.0</td>\n",
       "      <td>...</td>\n",
       "      <td>88606.44649</td>\n",
       "      <td>40.344795</td>\n",
       "      <td>0.192576</td>\n",
       "      <td>NaN</td>\n",
       "      <td>107.0</td>\n",
       "      <td>80965.29542</td>\n",
       "      <td>40.843688</td>\n",
       "      <td>-0.097053</td>\n",
       "      <td>NaN</td>\n",
       "      <td>219.0</td>\n",
       "    </tr>\n",
       "    <tr>\n",
       "      <th>2</th>\n",
       "      <td>01/03/2004</td>\n",
       "      <td>Aberdeenshire</td>\n",
       "      <td>S12000034</td>\n",
       "      <td>83525.09702</td>\n",
       "      <td>41.780317</td>\n",
       "      <td>NaN</td>\n",
       "      <td>2.260483</td>\n",
       "      <td>NaN</td>\n",
       "      <td>NaN</td>\n",
       "      <td>453.0</td>\n",
       "      <td>...</td>\n",
       "      <td>90296.91375</td>\n",
       "      <td>41.114508</td>\n",
       "      <td>1.907838</td>\n",
       "      <td>NaN</td>\n",
       "      <td>140.0</td>\n",
       "      <td>82903.23948</td>\n",
       "      <td>41.821302</td>\n",
       "      <td>2.393549</td>\n",
       "      <td>NaN</td>\n",
       "      <td>313.0</td>\n",
       "    </tr>\n",
       "    <tr>\n",
       "      <th>3</th>\n",
       "      <td>01/04/2004</td>\n",
       "      <td>Aberdeenshire</td>\n",
       "      <td>S12000034</td>\n",
       "      <td>84333.67900</td>\n",
       "      <td>42.184780</td>\n",
       "      <td>NaN</td>\n",
       "      <td>0.968071</td>\n",
       "      <td>NaN</td>\n",
       "      <td>NaN</td>\n",
       "      <td>571.0</td>\n",
       "      <td>...</td>\n",
       "      <td>90319.87844</td>\n",
       "      <td>41.124964</td>\n",
       "      <td>0.025432</td>\n",
       "      <td>NaN</td>\n",
       "      <td>180.0</td>\n",
       "      <td>84003.99161</td>\n",
       "      <td>42.376586</td>\n",
       "      <td>1.327755</td>\n",
       "      <td>NaN</td>\n",
       "      <td>391.0</td>\n",
       "    </tr>\n",
       "    <tr>\n",
       "      <th>4</th>\n",
       "      <td>01/05/2004</td>\n",
       "      <td>Aberdeenshire</td>\n",
       "      <td>S12000034</td>\n",
       "      <td>86379.95396</td>\n",
       "      <td>43.208353</td>\n",
       "      <td>NaN</td>\n",
       "      <td>2.426403</td>\n",
       "      <td>NaN</td>\n",
       "      <td>NaN</td>\n",
       "      <td>502.0</td>\n",
       "      <td>...</td>\n",
       "      <td>91989.17763</td>\n",
       "      <td>41.885039</td>\n",
       "      <td>1.848208</td>\n",
       "      <td>NaN</td>\n",
       "      <td>167.0</td>\n",
       "      <td>86222.73484</td>\n",
       "      <td>43.495852</td>\n",
       "      <td>2.641235</td>\n",
       "      <td>NaN</td>\n",
       "      <td>335.0</td>\n",
       "    </tr>\n",
       "  </tbody>\n",
       "</table>\n",
       "<p>5 rows × 54 columns</p>\n",
       "</div>"
      ],
      "text/plain": [
       "         Date     RegionName   AreaCode  AveragePrice      Index  IndexSA  \\\n",
       "0  01/01/2004  Aberdeenshire  S12000034   81693.66964  40.864214      NaN   \n",
       "1  01/02/2004  Aberdeenshire  S12000034   81678.76231  40.856757      NaN   \n",
       "2  01/03/2004  Aberdeenshire  S12000034   83525.09702  41.780317      NaN   \n",
       "3  01/04/2004  Aberdeenshire  S12000034   84333.67900  42.184780      NaN   \n",
       "4  01/05/2004  Aberdeenshire  S12000034   86379.95396  43.208353      NaN   \n",
       "\n",
       "   1m%Change  12m%Change  AveragePriceSA  SalesVolume  ...     NewPrice  \\\n",
       "0        NaN         NaN             NaN        388.0  ...  88436.13953   \n",
       "1  -0.018248         NaN             NaN        326.0  ...  88606.44649   \n",
       "2   2.260483         NaN             NaN        453.0  ...  90296.91375   \n",
       "3   0.968071         NaN             NaN        571.0  ...  90319.87844   \n",
       "4   2.426403         NaN             NaN        502.0  ...  91989.17763   \n",
       "\n",
       "    NewIndex  New1m%Change  New12m%Change  NewSalesVolume     OldPrice  \\\n",
       "0  40.267250           NaN            NaN           103.0  81043.95084   \n",
       "1  40.344795      0.192576            NaN           107.0  80965.29542   \n",
       "2  41.114508      1.907838            NaN           140.0  82903.23948   \n",
       "3  41.124964      0.025432            NaN           180.0  84003.99161   \n",
       "4  41.885039      1.848208            NaN           167.0  86222.73484   \n",
       "\n",
       "    OldIndex  Old1m%Change  Old12m%Change  OldSalesVolume  \n",
       "0  40.883367           NaN            NaN           285.0  \n",
       "1  40.843688     -0.097053            NaN           219.0  \n",
       "2  41.821302      2.393549            NaN           313.0  \n",
       "3  42.376586      1.327755            NaN           391.0  \n",
       "4  43.495852      2.641235            NaN           335.0  \n",
       "\n",
       "[5 rows x 54 columns]"
      ]
     },
     "execution_count": 3,
     "metadata": {},
     "output_type": "execute_result"
    }
   ],
   "source": [
    "df.head()"
   ]
  },
  {
   "cell_type": "code",
   "execution_count": 4,
   "id": "34e4253a",
   "metadata": {},
   "outputs": [],
   "source": [
    "#year is in the format yyyy-dd-mm, the following code creates a Year and Month columns to make data processing easier\n",
    "\n",
    "df['Date'] = pd.to_datetime(df['Date'])\n",
    "df['Year'] = df['Date'].dt.year\n",
    "df['Month'] = df['Date'].dt.day"
   ]
  },
  {
   "cell_type": "code",
   "execution_count": 5,
   "id": "4b6836e9",
   "metadata": {},
   "outputs": [
    {
     "data": {
      "text/html": [
       "<div>\n",
       "<style scoped>\n",
       "    .dataframe tbody tr th:only-of-type {\n",
       "        vertical-align: middle;\n",
       "    }\n",
       "\n",
       "    .dataframe tbody tr th {\n",
       "        vertical-align: top;\n",
       "    }\n",
       "\n",
       "    .dataframe thead th {\n",
       "        text-align: right;\n",
       "    }\n",
       "</style>\n",
       "<table border=\"1\" class=\"dataframe\">\n",
       "  <thead>\n",
       "    <tr style=\"text-align: right;\">\n",
       "      <th></th>\n",
       "      <th>Date</th>\n",
       "      <th>RegionName</th>\n",
       "      <th>AreaCode</th>\n",
       "      <th>AveragePrice</th>\n",
       "      <th>Index</th>\n",
       "      <th>IndexSA</th>\n",
       "      <th>1m%Change</th>\n",
       "      <th>12m%Change</th>\n",
       "      <th>AveragePriceSA</th>\n",
       "      <th>SalesVolume</th>\n",
       "      <th>...</th>\n",
       "      <th>New1m%Change</th>\n",
       "      <th>New12m%Change</th>\n",
       "      <th>NewSalesVolume</th>\n",
       "      <th>OldPrice</th>\n",
       "      <th>OldIndex</th>\n",
       "      <th>Old1m%Change</th>\n",
       "      <th>Old12m%Change</th>\n",
       "      <th>OldSalesVolume</th>\n",
       "      <th>Year</th>\n",
       "      <th>Month</th>\n",
       "    </tr>\n",
       "  </thead>\n",
       "  <tbody>\n",
       "    <tr>\n",
       "      <th>0</th>\n",
       "      <td>2004-01-01</td>\n",
       "      <td>Aberdeenshire</td>\n",
       "      <td>S12000034</td>\n",
       "      <td>81693.66964</td>\n",
       "      <td>40.864214</td>\n",
       "      <td>NaN</td>\n",
       "      <td>NaN</td>\n",
       "      <td>NaN</td>\n",
       "      <td>NaN</td>\n",
       "      <td>388.0</td>\n",
       "      <td>...</td>\n",
       "      <td>NaN</td>\n",
       "      <td>NaN</td>\n",
       "      <td>103.0</td>\n",
       "      <td>81043.95084</td>\n",
       "      <td>40.883367</td>\n",
       "      <td>NaN</td>\n",
       "      <td>NaN</td>\n",
       "      <td>285.0</td>\n",
       "      <td>2004</td>\n",
       "      <td>1</td>\n",
       "    </tr>\n",
       "    <tr>\n",
       "      <th>1</th>\n",
       "      <td>2004-01-02</td>\n",
       "      <td>Aberdeenshire</td>\n",
       "      <td>S12000034</td>\n",
       "      <td>81678.76231</td>\n",
       "      <td>40.856757</td>\n",
       "      <td>NaN</td>\n",
       "      <td>-0.018248</td>\n",
       "      <td>NaN</td>\n",
       "      <td>NaN</td>\n",
       "      <td>326.0</td>\n",
       "      <td>...</td>\n",
       "      <td>0.192576</td>\n",
       "      <td>NaN</td>\n",
       "      <td>107.0</td>\n",
       "      <td>80965.29542</td>\n",
       "      <td>40.843688</td>\n",
       "      <td>-0.097053</td>\n",
       "      <td>NaN</td>\n",
       "      <td>219.0</td>\n",
       "      <td>2004</td>\n",
       "      <td>2</td>\n",
       "    </tr>\n",
       "  </tbody>\n",
       "</table>\n",
       "<p>2 rows × 56 columns</p>\n",
       "</div>"
      ],
      "text/plain": [
       "        Date     RegionName   AreaCode  AveragePrice      Index  IndexSA  \\\n",
       "0 2004-01-01  Aberdeenshire  S12000034   81693.66964  40.864214      NaN   \n",
       "1 2004-01-02  Aberdeenshire  S12000034   81678.76231  40.856757      NaN   \n",
       "\n",
       "   1m%Change  12m%Change  AveragePriceSA  SalesVolume  ...  New1m%Change  \\\n",
       "0        NaN         NaN             NaN        388.0  ...           NaN   \n",
       "1  -0.018248         NaN             NaN        326.0  ...      0.192576   \n",
       "\n",
       "   New12m%Change  NewSalesVolume     OldPrice   OldIndex  Old1m%Change  \\\n",
       "0            NaN           103.0  81043.95084  40.883367           NaN   \n",
       "1            NaN           107.0  80965.29542  40.843688     -0.097053   \n",
       "\n",
       "   Old12m%Change  OldSalesVolume  Year  Month  \n",
       "0            NaN           285.0  2004      1  \n",
       "1            NaN           219.0  2004      2  \n",
       "\n",
       "[2 rows x 56 columns]"
      ]
     },
     "metadata": {},
     "output_type": "display_data"
    },
    {
     "data": {
      "text/plain": [
       "(135250, 56)"
      ]
     },
     "metadata": {},
     "output_type": "display_data"
    }
   ],
   "source": [
    "display(df.head(2), df.shape)"
   ]
  },
  {
   "cell_type": "code",
   "execution_count": 6,
   "id": "ab933e4a",
   "metadata": {},
   "outputs": [
    {
     "name": "stdout",
     "output_type": "stream",
     "text": [
      "<class 'pandas.core.frame.DataFrame'>\n",
      "RangeIndex: 135250 entries, 0 to 135249\n",
      "Data columns (total 56 columns):\n",
      " #   Column                  Non-Null Count   Dtype         \n",
      "---  ------                  --------------   -----         \n",
      " 0   Date                    135250 non-null  datetime64[ns]\n",
      " 1   RegionName              135250 non-null  object        \n",
      " 2   AreaCode                135250 non-null  object        \n",
      " 3   AveragePrice            135250 non-null  float64       \n",
      " 4   Index                   135250 non-null  float64       \n",
      " 5   IndexSA                 4539 non-null    float64       \n",
      " 6   1m%Change               134807 non-null  float64       \n",
      " 7   12m%Change              130210 non-null  float64       \n",
      " 8   AveragePriceSA          4539 non-null    float64       \n",
      " 9   SalesVolume             130751 non-null  float64       \n",
      " 10  DetachedPrice           129000 non-null  float64       \n",
      " 11  DetachedIndex           129000 non-null  float64       \n",
      " 12  Detached1m%Change       128591 non-null  float64       \n",
      " 13  Detached12m%Change      124116 non-null  float64       \n",
      " 14  SemiDetachedPrice       129013 non-null  float64       \n",
      " 15  SemiDetachedIndex       129013 non-null  float64       \n",
      " 16  SemiDetached1m%Change   128604 non-null  float64       \n",
      " 17  SemiDetached12m%Change  124129 non-null  float64       \n",
      " 18  TerracedPrice           129040 non-null  float64       \n",
      " 19  TerracedIndex           129040 non-null  float64       \n",
      " 20  Terraced1m%Change       128631 non-null  float64       \n",
      " 21  Terraced12m%Change      124156 non-null  float64       \n",
      " 22  FlatPrice               129338 non-null  float64       \n",
      " 23  FlatIndex               129338 non-null  float64       \n",
      " 24  Flat1m%Change           128928 non-null  float64       \n",
      " 25  Flat12m%Change          124442 non-null  float64       \n",
      " 26  CashPrice               49368 non-null   float64       \n",
      " 27  CashIndex               49368 non-null   float64       \n",
      " 28  Cash1m%Change           48962 non-null   float64       \n",
      " 29  Cash12m%Change          44496 non-null   float64       \n",
      " 30  CashSalesVolume         48551 non-null   float64       \n",
      " 31  MortgagePrice           49368 non-null   float64       \n",
      " 32  MortgageIndex           49368 non-null   float64       \n",
      " 33  Mortgage1m%Change       48962 non-null   float64       \n",
      " 34  Mortgage12m%Change      44496 non-null   float64       \n",
      " 35  MortgageSalesVolume     48552 non-null   float64       \n",
      " 36  FTBPrice                49764 non-null   float64       \n",
      " 37  FTBIndex                49764 non-null   float64       \n",
      " 38  FTB1m%Change            49358 non-null   float64       \n",
      " 39  FTB12m%Change           44892 non-null   float64       \n",
      " 40  FOOPrice                49368 non-null   float64       \n",
      " 41  FOOIndex                49368 non-null   float64       \n",
      " 42  FOO1m%Change            48962 non-null   float64       \n",
      " 43  FOO12m%Change           44496 non-null   float64       \n",
      " 44  NewPrice                128515 non-null  float64       \n",
      " 45  NewIndex                128515 non-null  float64       \n",
      " 46  New1m%Change            128105 non-null  float64       \n",
      " 47  New12m%Change           123619 non-null  float64       \n",
      " 48  NewSalesVolume          128156 non-null  float64       \n",
      " 49  OldPrice                128518 non-null  float64       \n",
      " 50  OldIndex                128518 non-null  float64       \n",
      " 51  Old1m%Change            128108 non-null  float64       \n",
      " 52  Old12m%Change           123622 non-null  float64       \n",
      " 53  OldSalesVolume          128506 non-null  float64       \n",
      " 54  Year                    135250 non-null  int32         \n",
      " 55  Month                   135250 non-null  int32         \n",
      "dtypes: datetime64[ns](1), float64(51), int32(2), object(2)\n",
      "memory usage: 56.8+ MB\n"
     ]
    }
   ],
   "source": [
    "#using df.info() to get some extra insight on the DataFrame\n",
    "df.info()"
   ]
  },
  {
   "cell_type": "markdown",
   "id": "78e11922",
   "metadata": {},
   "source": [
    "There are some columns that have plenty of null values. As the only interest of this analysis is to see the variation of prices over time, the following code selects some relevant columns to simplify the dataset"
   ]
  },
  {
   "cell_type": "code",
   "execution_count": 7,
   "id": "b2b31c5b",
   "metadata": {},
   "outputs": [],
   "source": [
    "relevant_cols = ['Date','RegionName','AveragePrice','SalesVolume','DetachedPrice','SemiDetachedPrice','TerracedPrice','FlatPrice','Year','Month']\n",
    "df_housing = df[relevant_cols]"
   ]
  },
  {
   "cell_type": "code",
   "execution_count": 8,
   "id": "966ec033",
   "metadata": {},
   "outputs": [
    {
     "name": "stdout",
     "output_type": "stream",
     "text": [
      "<class 'pandas.core.frame.DataFrame'>\n",
      "RangeIndex: 135250 entries, 0 to 135249\n",
      "Data columns (total 10 columns):\n",
      " #   Column             Non-Null Count   Dtype         \n",
      "---  ------             --------------   -----         \n",
      " 0   Date               135250 non-null  datetime64[ns]\n",
      " 1   RegionName         135250 non-null  object        \n",
      " 2   AveragePrice       135250 non-null  float64       \n",
      " 3   SalesVolume        130751 non-null  float64       \n",
      " 4   DetachedPrice      129000 non-null  float64       \n",
      " 5   SemiDetachedPrice  129013 non-null  float64       \n",
      " 6   TerracedPrice      129040 non-null  float64       \n",
      " 7   FlatPrice          129338 non-null  float64       \n",
      " 8   Year               135250 non-null  int32         \n",
      " 9   Month              135250 non-null  int32         \n",
      "dtypes: datetime64[ns](1), float64(6), int32(2), object(1)\n",
      "memory usage: 9.3+ MB\n"
     ]
    }
   ],
   "source": [
    "df_housing.info()"
   ]
  },
  {
   "cell_type": "markdown",
   "id": "a30eb64e",
   "metadata": {},
   "source": [
    "The data is now clearer to read, and it is now much easier to identify null values across the DataFrame"
   ]
  },
  {
   "cell_type": "code",
   "execution_count": 9,
   "id": "1598db1f",
   "metadata": {},
   "outputs": [
    {
     "data": {
      "text/plain": [
       "Date                    646\n",
       "RegionName              421\n",
       "AveragePrice         131158\n",
       "SalesVolume            7724\n",
       "DetachedPrice        128848\n",
       "SemiDetachedPrice    128864\n",
       "TerracedPrice        128892\n",
       "FlatPrice            129128\n",
       "Year                     55\n",
       "Month                    12\n",
       "dtype: int64"
      ]
     },
     "execution_count": 9,
     "metadata": {},
     "output_type": "execute_result"
    }
   ],
   "source": [
    "df_housing.nunique()"
   ]
  },
  {
   "cell_type": "markdown",
   "id": "e8418d3a",
   "metadata": {},
   "source": [
    "The year columns shows a range wider than expected, as 135250 rows over 421 regions each having 12 rows per calendar year would give approximately 26yrs worth of data (135250/(421 *12) = approx. 26.8yrs which is much lower than the 55yrs above"
   ]
  },
  {
   "cell_type": "code",
   "execution_count": 10,
   "id": "2d044117",
   "metadata": {},
   "outputs": [
    {
     "data": {
      "text/html": [
       "<div>\n",
       "<style scoped>\n",
       "    .dataframe tbody tr th:only-of-type {\n",
       "        vertical-align: middle;\n",
       "    }\n",
       "\n",
       "    .dataframe tbody tr th {\n",
       "        vertical-align: top;\n",
       "    }\n",
       "\n",
       "    .dataframe thead th {\n",
       "        text-align: right;\n",
       "    }\n",
       "</style>\n",
       "<table border=\"1\" class=\"dataframe\">\n",
       "  <thead>\n",
       "    <tr style=\"text-align: right;\">\n",
       "      <th></th>\n",
       "      <th>Date</th>\n",
       "      <th>AveragePrice</th>\n",
       "      <th>SalesVolume</th>\n",
       "      <th>DetachedPrice</th>\n",
       "      <th>SemiDetachedPrice</th>\n",
       "      <th>TerracedPrice</th>\n",
       "      <th>FlatPrice</th>\n",
       "      <th>Year</th>\n",
       "      <th>Month</th>\n",
       "    </tr>\n",
       "  </thead>\n",
       "  <tbody>\n",
       "    <tr>\n",
       "      <th>count</th>\n",
       "      <td>135250</td>\n",
       "      <td>1.352500e+05</td>\n",
       "      <td>130751.000000</td>\n",
       "      <td>1.290000e+05</td>\n",
       "      <td>1.290130e+05</td>\n",
       "      <td>1.290400e+05</td>\n",
       "      <td>1.293380e+05</td>\n",
       "      <td>135250.000000</td>\n",
       "      <td>135250.000000</td>\n",
       "    </tr>\n",
       "    <tr>\n",
       "      <th>mean</th>\n",
       "      <td>2007-09-24 16:57:14.493160704</td>\n",
       "      <td>1.663382e+05</td>\n",
       "      <td>1216.732140</td>\n",
       "      <td>2.930692e+05</td>\n",
       "      <td>1.874907e+05</td>\n",
       "      <td>1.486868e+05</td>\n",
       "      <td>1.145485e+05</td>\n",
       "      <td>2007.714854</td>\n",
       "      <td>6.484177</td>\n",
       "    </tr>\n",
       "    <tr>\n",
       "      <th>min</th>\n",
       "      <td>1968-01-04 00:00:00</td>\n",
       "      <td>2.712016e+03</td>\n",
       "      <td>2.000000</td>\n",
       "      <td>4.064610e+04</td>\n",
       "      <td>2.571306e+04</td>\n",
       "      <td>2.045985e+04</td>\n",
       "      <td>1.619875e+04</td>\n",
       "      <td>1968.000000</td>\n",
       "      <td>1.000000</td>\n",
       "    </tr>\n",
       "    <tr>\n",
       "      <th>25%</th>\n",
       "      <td>2001-01-09 00:00:00</td>\n",
       "      <td>9.331214e+04</td>\n",
       "      <td>139.000000</td>\n",
       "      <td>1.625800e+05</td>\n",
       "      <td>1.007011e+05</td>\n",
       "      <td>7.876238e+04</td>\n",
       "      <td>6.503723e+04</td>\n",
       "      <td>2001.000000</td>\n",
       "      <td>3.000000</td>\n",
       "    </tr>\n",
       "    <tr>\n",
       "      <th>50%</th>\n",
       "      <td>2008-01-09 00:00:00</td>\n",
       "      <td>1.462071e+05</td>\n",
       "      <td>215.000000</td>\n",
       "      <td>2.358328e+05</td>\n",
       "      <td>1.478856e+05</td>\n",
       "      <td>1.189835e+05</td>\n",
       "      <td>9.784212e+04</td>\n",
       "      <td>2008.000000</td>\n",
       "      <td>6.000000</td>\n",
       "    </tr>\n",
       "    <tr>\n",
       "      <th>75%</th>\n",
       "      <td>2015-01-05 00:00:00</td>\n",
       "      <td>2.086069e+05</td>\n",
       "      <td>373.000000</td>\n",
       "      <td>3.400492e+05</td>\n",
       "      <td>2.159324e+05</td>\n",
       "      <td>1.757569e+05</td>\n",
       "      <td>1.379296e+05</td>\n",
       "      <td>2015.000000</td>\n",
       "      <td>9.000000</td>\n",
       "    </tr>\n",
       "    <tr>\n",
       "      <th>max</th>\n",
       "      <td>2022-01-01 00:00:00</td>\n",
       "      <td>1.479252e+06</td>\n",
       "      <td>156531.000000</td>\n",
       "      <td>4.269390e+06</td>\n",
       "      <td>4.364062e+06</td>\n",
       "      <td>2.882060e+06</td>\n",
       "      <td>1.287157e+06</td>\n",
       "      <td>2022.000000</td>\n",
       "      <td>12.000000</td>\n",
       "    </tr>\n",
       "    <tr>\n",
       "      <th>std</th>\n",
       "      <td>NaN</td>\n",
       "      <td>1.119901e+05</td>\n",
       "      <td>7591.352117</td>\n",
       "      <td>2.538515e+05</td>\n",
       "      <td>1.938870e+05</td>\n",
       "      <td>1.423191e+05</td>\n",
       "      <td>8.790561e+04</td>\n",
       "      <td>8.794493</td>\n",
       "      <td>3.459910</td>\n",
       "    </tr>\n",
       "  </tbody>\n",
       "</table>\n",
       "</div>"
      ],
      "text/plain": [
       "                                Date  AveragePrice    SalesVolume  \\\n",
       "count                         135250  1.352500e+05  130751.000000   \n",
       "mean   2007-09-24 16:57:14.493160704  1.663382e+05    1216.732140   \n",
       "min              1968-01-04 00:00:00  2.712016e+03       2.000000   \n",
       "25%              2001-01-09 00:00:00  9.331214e+04     139.000000   \n",
       "50%              2008-01-09 00:00:00  1.462071e+05     215.000000   \n",
       "75%              2015-01-05 00:00:00  2.086069e+05     373.000000   \n",
       "max              2022-01-01 00:00:00  1.479252e+06  156531.000000   \n",
       "std                              NaN  1.119901e+05    7591.352117   \n",
       "\n",
       "       DetachedPrice  SemiDetachedPrice  TerracedPrice     FlatPrice  \\\n",
       "count   1.290000e+05       1.290130e+05   1.290400e+05  1.293380e+05   \n",
       "mean    2.930692e+05       1.874907e+05   1.486868e+05  1.145485e+05   \n",
       "min     4.064610e+04       2.571306e+04   2.045985e+04  1.619875e+04   \n",
       "25%     1.625800e+05       1.007011e+05   7.876238e+04  6.503723e+04   \n",
       "50%     2.358328e+05       1.478856e+05   1.189835e+05  9.784212e+04   \n",
       "75%     3.400492e+05       2.159324e+05   1.757569e+05  1.379296e+05   \n",
       "max     4.269390e+06       4.364062e+06   2.882060e+06  1.287157e+06   \n",
       "std     2.538515e+05       1.938870e+05   1.423191e+05  8.790561e+04   \n",
       "\n",
       "                Year          Month  \n",
       "count  135250.000000  135250.000000  \n",
       "mean     2007.714854       6.484177  \n",
       "min      1968.000000       1.000000  \n",
       "25%      2001.000000       3.000000  \n",
       "50%      2008.000000       6.000000  \n",
       "75%      2015.000000       9.000000  \n",
       "max      2022.000000      12.000000  \n",
       "std         8.794493       3.459910  "
      ]
     },
     "execution_count": 10,
     "metadata": {},
     "output_type": "execute_result"
    }
   ],
   "source": [
    "df_housing.describe()"
   ]
  },
  {
   "cell_type": "markdown",
   "id": "8eaa1337",
   "metadata": {},
   "source": [
    "Before we dive into the analysis of the year column, let's rename the remaining columns!"
   ]
  },
  {
   "cell_type": "code",
   "execution_count": 11,
   "id": "922a40b4",
   "metadata": {},
   "outputs": [
    {
     "name": "stderr",
     "output_type": "stream",
     "text": [
      "/var/folders/c1/nch3_nfs70g32zj8hldyy7ph0000gn/T/ipykernel_1512/83984849.py:1: SettingWithCopyWarning: \n",
      "A value is trying to be set on a copy of a slice from a DataFrame\n",
      "\n",
      "See the caveats in the documentation: https://pandas.pydata.org/pandas-docs/stable/user_guide/indexing.html#returning-a-view-versus-a-copy\n",
      "  df_housing.rename(columns = {\n"
     ]
    },
    {
     "data": {
      "text/html": [
       "<div>\n",
       "<style scoped>\n",
       "    .dataframe tbody tr th:only-of-type {\n",
       "        vertical-align: middle;\n",
       "    }\n",
       "\n",
       "    .dataframe tbody tr th {\n",
       "        vertical-align: top;\n",
       "    }\n",
       "\n",
       "    .dataframe thead th {\n",
       "        text-align: right;\n",
       "    }\n",
       "</style>\n",
       "<table border=\"1\" class=\"dataframe\">\n",
       "  <thead>\n",
       "    <tr style=\"text-align: right;\">\n",
       "      <th></th>\n",
       "      <th>date</th>\n",
       "      <th>region</th>\n",
       "      <th>average_price</th>\n",
       "      <th>sales_volume</th>\n",
       "      <th>detached_price</th>\n",
       "      <th>semidetached_price</th>\n",
       "      <th>terraced_price</th>\n",
       "      <th>flat_price</th>\n",
       "      <th>year</th>\n",
       "      <th>month</th>\n",
       "    </tr>\n",
       "  </thead>\n",
       "  <tbody>\n",
       "    <tr>\n",
       "      <th>0</th>\n",
       "      <td>2004-01-01</td>\n",
       "      <td>Aberdeenshire</td>\n",
       "      <td>81693.66964</td>\n",
       "      <td>388.0</td>\n",
       "      <td>122490.0641</td>\n",
       "      <td>70563.15784</td>\n",
       "      <td>55319.63336</td>\n",
       "      <td>48016.07412</td>\n",
       "      <td>2004</td>\n",
       "      <td>1</td>\n",
       "    </tr>\n",
       "    <tr>\n",
       "      <th>1</th>\n",
       "      <td>2004-01-02</td>\n",
       "      <td>Aberdeenshire</td>\n",
       "      <td>81678.76231</td>\n",
       "      <td>326.0</td>\n",
       "      <td>121280.8840</td>\n",
       "      <td>70804.42408</td>\n",
       "      <td>55720.07531</td>\n",
       "      <td>49030.18133</td>\n",
       "      <td>2004</td>\n",
       "      <td>2</td>\n",
       "    </tr>\n",
       "  </tbody>\n",
       "</table>\n",
       "</div>"
      ],
      "text/plain": [
       "        date         region  average_price  sales_volume  detached_price  \\\n",
       "0 2004-01-01  Aberdeenshire    81693.66964         388.0     122490.0641   \n",
       "1 2004-01-02  Aberdeenshire    81678.76231         326.0     121280.8840   \n",
       "\n",
       "   semidetached_price  terraced_price   flat_price  year  month  \n",
       "0         70563.15784     55319.63336  48016.07412  2004      1  \n",
       "1         70804.42408     55720.07531  49030.18133  2004      2  "
      ]
     },
     "execution_count": 11,
     "metadata": {},
     "output_type": "execute_result"
    }
   ],
   "source": [
    "df_housing.rename(columns = {\n",
    "    'Date': 'date', 'RegionName': 'region',\n",
    "    'AveragePrice': 'average_price',\n",
    "    'SalesVolume': 'sales_volume',\n",
    "    'DetachedPrice': 'detached_price',\n",
    "    'SemiDetachedPrice': 'semidetached_price',\n",
    "    'TerracedPrice': 'terraced_price',\n",
    "    'FlatPrice':'flat_price',\n",
    "    'Year':'year',\n",
    "    'Month':'month'},inplace = True)\n",
    "\n",
    "df_housing.head(2)"
   ]
  },
  {
   "cell_type": "code",
   "execution_count": 12,
   "id": "f9eb39ba",
   "metadata": {},
   "outputs": [
    {
     "data": {
      "text/plain": [
       "year\n",
       "2015    5052\n",
       "2013    5052\n",
       "2019    5052\n",
       "2018    5052\n",
       "2017    5052\n",
       "2016    5052\n",
       "2005    5052\n",
       "2014    5052\n",
       "2012    5052\n",
       "2021    5052\n",
       "2011    5052\n",
       "2010    5052\n",
       "2009    5052\n",
       "2008    5052\n",
       "2007    5052\n",
       "2006    5052\n",
       "2020    5052\n",
       "2004    4920\n",
       "1999    4524\n",
       "2002    4524\n",
       "2001    4524\n",
       "2000    4524\n",
       "2003    4524\n",
       "1998    4524\n",
       "1997    4524\n",
       "1996    4524\n",
       "1995    4524\n",
       "2022     421\n",
       "1993     156\n",
       "1994     156\n",
       "1992     147\n",
       "1970     120\n",
       "1971     120\n",
       "1991     120\n",
       "1990     120\n",
       "1989     120\n",
       "1988     120\n",
       "1987     120\n",
       "1986     120\n",
       "1985     120\n",
       "1984     120\n",
       "1983     120\n",
       "1982     120\n",
       "1981     120\n",
       "1980     120\n",
       "1969     120\n",
       "1978     120\n",
       "1977     120\n",
       "1976     120\n",
       "1975     120\n",
       "1974     120\n",
       "1973     120\n",
       "1972     120\n",
       "1979     120\n",
       "1968      90\n",
       "Name: count, dtype: int64"
      ]
     },
     "execution_count": 12,
     "metadata": {},
     "output_type": "execute_result"
    }
   ],
   "source": [
    "df_housing['year'].value_counts()"
   ]
  },
  {
   "cell_type": "markdown",
   "id": "e68d7653",
   "metadata": {},
   "source": [
    "The majority of data between is 1995 and 2021, so we can use a mask to filter the relevant data.\n",
    "Let's create a new dataframe for modern housing df_mod_housing and apply the relevant masking"
   ]
  },
  {
   "cell_type": "code",
   "execution_count": 13,
   "id": "1f2f9f86",
   "metadata": {},
   "outputs": [],
   "source": [
    "df_mod_housing = df_housing[df_housing['year']>= 1995]\n",
    "df_mod_housing = df_mod_housing[df_mod_housing['year']<2022]"
   ]
  },
  {
   "cell_type": "code",
   "execution_count": 14,
   "id": "5fd565b3",
   "metadata": {},
   "outputs": [
    {
     "data": {
      "text/html": [
       "<div>\n",
       "<style scoped>\n",
       "    .dataframe tbody tr th:only-of-type {\n",
       "        vertical-align: middle;\n",
       "    }\n",
       "\n",
       "    .dataframe tbody tr th {\n",
       "        vertical-align: top;\n",
       "    }\n",
       "\n",
       "    .dataframe thead th {\n",
       "        text-align: right;\n",
       "    }\n",
       "</style>\n",
       "<table border=\"1\" class=\"dataframe\">\n",
       "  <thead>\n",
       "    <tr style=\"text-align: right;\">\n",
       "      <th></th>\n",
       "      <th>date</th>\n",
       "      <th>average_price</th>\n",
       "      <th>sales_volume</th>\n",
       "      <th>detached_price</th>\n",
       "      <th>semidetached_price</th>\n",
       "      <th>terraced_price</th>\n",
       "      <th>flat_price</th>\n",
       "      <th>year</th>\n",
       "      <th>month</th>\n",
       "    </tr>\n",
       "  </thead>\n",
       "  <tbody>\n",
       "    <tr>\n",
       "      <th>count</th>\n",
       "      <td>131520</td>\n",
       "      <td>1.315200e+05</td>\n",
       "      <td>130751.000000</td>\n",
       "      <td>1.285920e+05</td>\n",
       "      <td>1.286040e+05</td>\n",
       "      <td>1.286310e+05</td>\n",
       "      <td>1.289280e+05</td>\n",
       "      <td>131520.000000</td>\n",
       "      <td>131520.000000</td>\n",
       "    </tr>\n",
       "    <tr>\n",
       "      <th>mean</th>\n",
       "      <td>2008-05-06 02:38:50.802919680</td>\n",
       "      <td>1.694942e+05</td>\n",
       "      <td>1216.732140</td>\n",
       "      <td>2.922934e+05</td>\n",
       "      <td>1.870055e+05</td>\n",
       "      <td>1.483184e+05</td>\n",
       "      <td>1.143412e+05</td>\n",
       "      <td>2008.329197</td>\n",
       "      <td>6.500000</td>\n",
       "    </tr>\n",
       "    <tr>\n",
       "      <th>min</th>\n",
       "      <td>1995-01-01 00:00:00</td>\n",
       "      <td>2.310073e+04</td>\n",
       "      <td>2.000000</td>\n",
       "      <td>4.064610e+04</td>\n",
       "      <td>2.571306e+04</td>\n",
       "      <td>2.045985e+04</td>\n",
       "      <td>1.619875e+04</td>\n",
       "      <td>1995.000000</td>\n",
       "      <td>1.000000</td>\n",
       "    </tr>\n",
       "    <tr>\n",
       "      <th>25%</th>\n",
       "      <td>2002-01-04 00:00:00</td>\n",
       "      <td>9.856298e+04</td>\n",
       "      <td>139.000000</td>\n",
       "      <td>1.622767e+05</td>\n",
       "      <td>1.004751e+05</td>\n",
       "      <td>7.857514e+04</td>\n",
       "      <td>6.491625e+04</td>\n",
       "      <td>2002.000000</td>\n",
       "      <td>3.750000</td>\n",
       "    </tr>\n",
       "    <tr>\n",
       "      <th>50%</th>\n",
       "      <td>2008-01-12 00:00:00</td>\n",
       "      <td>1.483271e+05</td>\n",
       "      <td>215.000000</td>\n",
       "      <td>2.353712e+05</td>\n",
       "      <td>1.475714e+05</td>\n",
       "      <td>1.187646e+05</td>\n",
       "      <td>9.769984e+04</td>\n",
       "      <td>2008.000000</td>\n",
       "      <td>6.500000</td>\n",
       "    </tr>\n",
       "    <tr>\n",
       "      <th>75%</th>\n",
       "      <td>2015-01-06 00:00:00</td>\n",
       "      <td>2.103039e+05</td>\n",
       "      <td>373.000000</td>\n",
       "      <td>3.392853e+05</td>\n",
       "      <td>2.153604e+05</td>\n",
       "      <td>1.752874e+05</td>\n",
       "      <td>1.376980e+05</td>\n",
       "      <td>2015.000000</td>\n",
       "      <td>9.250000</td>\n",
       "    </tr>\n",
       "    <tr>\n",
       "      <th>max</th>\n",
       "      <td>2021-01-12 00:00:00</td>\n",
       "      <td>1.479252e+06</td>\n",
       "      <td>156531.000000</td>\n",
       "      <td>4.269390e+06</td>\n",
       "      <td>4.364062e+06</td>\n",
       "      <td>2.882060e+06</td>\n",
       "      <td>1.287157e+06</td>\n",
       "      <td>2021.000000</td>\n",
       "      <td>12.000000</td>\n",
       "    </tr>\n",
       "    <tr>\n",
       "      <th>std</th>\n",
       "      <td>NaN</td>\n",
       "      <td>1.106972e+05</td>\n",
       "      <td>7591.352117</td>\n",
       "      <td>2.529732e+05</td>\n",
       "      <td>1.932711e+05</td>\n",
       "      <td>1.418958e+05</td>\n",
       "      <td>8.771304e+04</td>\n",
       "      <td>7.721919</td>\n",
       "      <td>3.452066</td>\n",
       "    </tr>\n",
       "  </tbody>\n",
       "</table>\n",
       "</div>"
      ],
      "text/plain": [
       "                                date  average_price   sales_volume  \\\n",
       "count                         131520   1.315200e+05  130751.000000   \n",
       "mean   2008-05-06 02:38:50.802919680   1.694942e+05    1216.732140   \n",
       "min              1995-01-01 00:00:00   2.310073e+04       2.000000   \n",
       "25%              2002-01-04 00:00:00   9.856298e+04     139.000000   \n",
       "50%              2008-01-12 00:00:00   1.483271e+05     215.000000   \n",
       "75%              2015-01-06 00:00:00   2.103039e+05     373.000000   \n",
       "max              2021-01-12 00:00:00   1.479252e+06  156531.000000   \n",
       "std                              NaN   1.106972e+05    7591.352117   \n",
       "\n",
       "       detached_price  semidetached_price  terraced_price    flat_price  \\\n",
       "count    1.285920e+05        1.286040e+05    1.286310e+05  1.289280e+05   \n",
       "mean     2.922934e+05        1.870055e+05    1.483184e+05  1.143412e+05   \n",
       "min      4.064610e+04        2.571306e+04    2.045985e+04  1.619875e+04   \n",
       "25%      1.622767e+05        1.004751e+05    7.857514e+04  6.491625e+04   \n",
       "50%      2.353712e+05        1.475714e+05    1.187646e+05  9.769984e+04   \n",
       "75%      3.392853e+05        2.153604e+05    1.752874e+05  1.376980e+05   \n",
       "max      4.269390e+06        4.364062e+06    2.882060e+06  1.287157e+06   \n",
       "std      2.529732e+05        1.932711e+05    1.418958e+05  8.771304e+04   \n",
       "\n",
       "                year          month  \n",
       "count  131520.000000  131520.000000  \n",
       "mean     2008.329197       6.500000  \n",
       "min      1995.000000       1.000000  \n",
       "25%      2002.000000       3.750000  \n",
       "50%      2008.000000       6.500000  \n",
       "75%      2015.000000       9.250000  \n",
       "max      2021.000000      12.000000  \n",
       "std         7.721919       3.452066  "
      ]
     },
     "execution_count": 14,
     "metadata": {},
     "output_type": "execute_result"
    }
   ],
   "source": [
    "df_mod_housing.describe()"
   ]
  },
  {
   "cell_type": "code",
   "execution_count": 15,
   "id": "d0b2e320",
   "metadata": {},
   "outputs": [],
   "source": [
    "#let's move the year and month to the top of the DataFrame"
   ]
  },
  {
   "cell_type": "code",
   "execution_count": 16,
   "id": "78a7fd6d",
   "metadata": {},
   "outputs": [
    {
     "data": {
      "text/plain": [
       "['year',\n",
       " 'month',\n",
       " 'date',\n",
       " 'region',\n",
       " 'average_price',\n",
       " 'sales_volume',\n",
       " 'detached_price',\n",
       " 'semidetached_price',\n",
       " 'terraced_price',\n",
       " 'flat_price']"
      ]
     },
     "execution_count": 16,
     "metadata": {},
     "output_type": "execute_result"
    }
   ],
   "source": [
    "cols = df_mod_housing.columns.tolist()\n",
    "cols = cols[-2:] + cols[:-2]\n",
    "cols"
   ]
  },
  {
   "cell_type": "code",
   "execution_count": 17,
   "id": "d22ebcae",
   "metadata": {},
   "outputs": [
    {
     "data": {
      "text/html": [
       "<div>\n",
       "<style scoped>\n",
       "    .dataframe tbody tr th:only-of-type {\n",
       "        vertical-align: middle;\n",
       "    }\n",
       "\n",
       "    .dataframe tbody tr th {\n",
       "        vertical-align: top;\n",
       "    }\n",
       "\n",
       "    .dataframe thead th {\n",
       "        text-align: right;\n",
       "    }\n",
       "</style>\n",
       "<table border=\"1\" class=\"dataframe\">\n",
       "  <thead>\n",
       "    <tr style=\"text-align: right;\">\n",
       "      <th></th>\n",
       "      <th>year</th>\n",
       "      <th>month</th>\n",
       "      <th>date</th>\n",
       "      <th>region</th>\n",
       "      <th>average_price</th>\n",
       "      <th>sales_volume</th>\n",
       "      <th>detached_price</th>\n",
       "      <th>semidetached_price</th>\n",
       "      <th>terraced_price</th>\n",
       "      <th>flat_price</th>\n",
       "    </tr>\n",
       "  </thead>\n",
       "  <tbody>\n",
       "    <tr>\n",
       "      <th>0</th>\n",
       "      <td>2004</td>\n",
       "      <td>1</td>\n",
       "      <td>2004-01-01</td>\n",
       "      <td>Aberdeenshire</td>\n",
       "      <td>81693.66964</td>\n",
       "      <td>388.0</td>\n",
       "      <td>122490.0641</td>\n",
       "      <td>70563.15784</td>\n",
       "      <td>55319.63336</td>\n",
       "      <td>48016.07412</td>\n",
       "    </tr>\n",
       "    <tr>\n",
       "      <th>1</th>\n",
       "      <td>2004</td>\n",
       "      <td>2</td>\n",
       "      <td>2004-01-02</td>\n",
       "      <td>Aberdeenshire</td>\n",
       "      <td>81678.76231</td>\n",
       "      <td>326.0</td>\n",
       "      <td>121280.8840</td>\n",
       "      <td>70804.42408</td>\n",
       "      <td>55720.07531</td>\n",
       "      <td>49030.18133</td>\n",
       "    </tr>\n",
       "  </tbody>\n",
       "</table>\n",
       "</div>"
      ],
      "text/plain": [
       "   year  month       date         region  average_price  sales_volume  \\\n",
       "0  2004      1 2004-01-01  Aberdeenshire    81693.66964         388.0   \n",
       "1  2004      2 2004-01-02  Aberdeenshire    81678.76231         326.0   \n",
       "\n",
       "   detached_price  semidetached_price  terraced_price   flat_price  \n",
       "0     122490.0641         70563.15784     55319.63336  48016.07412  \n",
       "1     121280.8840         70804.42408     55720.07531  49030.18133  "
      ]
     },
     "execution_count": 17,
     "metadata": {},
     "output_type": "execute_result"
    }
   ],
   "source": [
    "df_mod_housing = df_mod_housing[cols]\n",
    "df_mod_housing.head(2)"
   ]
  },
  {
   "cell_type": "markdown",
   "id": "32c5b3cb",
   "metadata": {},
   "source": [
    "It should be expected that a simple interpolation can fill the NaN values without affecting the overall statistics of the data"
   ]
  },
  {
   "cell_type": "code",
   "execution_count": 18,
   "id": "e3329fc7",
   "metadata": {},
   "outputs": [],
   "source": [
    "df_copy = df_mod_housing.copy().interpolate()"
   ]
  },
  {
   "cell_type": "code",
   "execution_count": 19,
   "id": "e45e1348",
   "metadata": {},
   "outputs": [],
   "source": [
    "#I will focus on the following sub-matrix with NaN values to avoid doing maths on timeline data"
   ]
  },
  {
   "cell_type": "code",
   "execution_count": 20,
   "id": "4a40c401",
   "metadata": {},
   "outputs": [],
   "source": [
    "d = df_mod_housing[['sales_volume','detached_price','semidetached_price','terraced_price','flat_price']].describe()\n",
    "e = df_copy[['sales_volume','detached_price','semidetached_price','terraced_price','flat_price']].describe()"
   ]
  },
  {
   "cell_type": "code",
   "execution_count": 21,
   "id": "ae6a8678",
   "metadata": {},
   "outputs": [
    {
     "data": {
      "text/html": [
       "<div>\n",
       "<style scoped>\n",
       "    .dataframe tbody tr th:only-of-type {\n",
       "        vertical-align: middle;\n",
       "    }\n",
       "\n",
       "    .dataframe tbody tr th {\n",
       "        vertical-align: top;\n",
       "    }\n",
       "\n",
       "    .dataframe thead th {\n",
       "        text-align: right;\n",
       "    }\n",
       "</style>\n",
       "<table border=\"1\" class=\"dataframe\">\n",
       "  <thead>\n",
       "    <tr style=\"text-align: right;\">\n",
       "      <th></th>\n",
       "      <th>sales_volume</th>\n",
       "      <th>detached_price</th>\n",
       "      <th>semidetached_price</th>\n",
       "      <th>terraced_price</th>\n",
       "      <th>flat_price</th>\n",
       "    </tr>\n",
       "  </thead>\n",
       "  <tbody>\n",
       "    <tr>\n",
       "      <th>count</th>\n",
       "      <td>0.588141</td>\n",
       "      <td>2.276969</td>\n",
       "      <td>2.267426</td>\n",
       "      <td>2.245959</td>\n",
       "      <td>2.010424</td>\n",
       "    </tr>\n",
       "    <tr>\n",
       "      <th>mean</th>\n",
       "      <td>2.501887</td>\n",
       "      <td>-0.283696</td>\n",
       "      <td>-0.336743</td>\n",
       "      <td>0.529408</td>\n",
       "      <td>-0.320469</td>\n",
       "    </tr>\n",
       "    <tr>\n",
       "      <th>std</th>\n",
       "      <td>0.854748</td>\n",
       "      <td>-0.804824</td>\n",
       "      <td>-0.898652</td>\n",
       "      <td>1.133413</td>\n",
       "      <td>-0.743328</td>\n",
       "    </tr>\n",
       "    <tr>\n",
       "      <th>min</th>\n",
       "      <td>0.000000</td>\n",
       "      <td>0.000000</td>\n",
       "      <td>0.000000</td>\n",
       "      <td>0.000000</td>\n",
       "      <td>0.000000</td>\n",
       "    </tr>\n",
       "    <tr>\n",
       "      <th>25%</th>\n",
       "      <td>0.000000</td>\n",
       "      <td>0.101954</td>\n",
       "      <td>0.087345</td>\n",
       "      <td>0.395199</td>\n",
       "      <td>0.081577</td>\n",
       "    </tr>\n",
       "    <tr>\n",
       "      <th>50%</th>\n",
       "      <td>0.000000</td>\n",
       "      <td>-0.053281</td>\n",
       "      <td>-0.064985</td>\n",
       "      <td>0.116984</td>\n",
       "      <td>-0.228151</td>\n",
       "    </tr>\n",
       "    <tr>\n",
       "      <th>75%</th>\n",
       "      <td>0.536193</td>\n",
       "      <td>-0.236471</td>\n",
       "      <td>-0.263840</td>\n",
       "      <td>0.093782</td>\n",
       "      <td>-0.351177</td>\n",
       "    </tr>\n",
       "    <tr>\n",
       "      <th>max</th>\n",
       "      <td>0.000000</td>\n",
       "      <td>0.000000</td>\n",
       "      <td>0.000000</td>\n",
       "      <td>0.000000</td>\n",
       "      <td>0.000000</td>\n",
       "    </tr>\n",
       "  </tbody>\n",
       "</table>\n",
       "</div>"
      ],
      "text/plain": [
       "       sales_volume  detached_price  semidetached_price  terraced_price  \\\n",
       "count      0.588141        2.276969            2.267426        2.245959   \n",
       "mean       2.501887       -0.283696           -0.336743        0.529408   \n",
       "std        0.854748       -0.804824           -0.898652        1.133413   \n",
       "min        0.000000        0.000000            0.000000        0.000000   \n",
       "25%        0.000000        0.101954            0.087345        0.395199   \n",
       "50%        0.000000       -0.053281           -0.064985        0.116984   \n",
       "75%        0.536193       -0.236471           -0.263840        0.093782   \n",
       "max        0.000000        0.000000            0.000000        0.000000   \n",
       "\n",
       "       flat_price  \n",
       "count    2.010424  \n",
       "mean    -0.320469  \n",
       "std     -0.743328  \n",
       "min      0.000000  \n",
       "25%      0.081577  \n",
       "50%     -0.228151  \n",
       "75%     -0.351177  \n",
       "max      0.000000  "
      ]
     },
     "execution_count": 21,
     "metadata": {},
     "output_type": "execute_result"
    }
   ],
   "source": [
    "interpolation_perc_change = e*100/d - 100\n",
    "interpolation_perc_change"
   ]
  },
  {
   "cell_type": "markdown",
   "id": "77a7b668",
   "metadata": {},
   "source": [
    "Being within 1.2% drift of most parameters, we can go ahead and use the .interpolate() method on mod_housing"
   ]
  },
  {
   "cell_type": "code",
   "execution_count": 22,
   "id": "9577841b",
   "metadata": {},
   "outputs": [],
   "source": [
    "df_mod_housing = df_mod_housing.interpolate()"
   ]
  },
  {
   "cell_type": "code",
   "execution_count": 23,
   "id": "70667b9d",
   "metadata": {},
   "outputs": [
    {
     "name": "stdout",
     "output_type": "stream",
     "text": [
      "<class 'pandas.core.frame.DataFrame'>\n",
      "Index: 131520 entries, 0 to 135248\n",
      "Data columns (total 10 columns):\n",
      " #   Column              Non-Null Count   Dtype         \n",
      "---  ------              --------------   -----         \n",
      " 0   year                131520 non-null  int32         \n",
      " 1   month               131520 non-null  int32         \n",
      " 2   date                131520 non-null  datetime64[ns]\n",
      " 3   region              131520 non-null  object        \n",
      " 4   average_price       131520 non-null  float64       \n",
      " 5   sales_volume        131520 non-null  float64       \n",
      " 6   detached_price      131520 non-null  float64       \n",
      " 7   semidetached_price  131520 non-null  float64       \n",
      " 8   terraced_price      131520 non-null  float64       \n",
      " 9   flat_price          131520 non-null  float64       \n",
      "dtypes: datetime64[ns](1), float64(6), int32(2), object(1)\n",
      "memory usage: 10.0+ MB\n"
     ]
    }
   ],
   "source": [
    "#let's see if there is any null data that have been missed\n",
    "df_mod_housing.info()"
   ]
  },
  {
   "cell_type": "markdown",
   "id": "1a3a1083",
   "metadata": {},
   "source": [
    "It is now time to see how prices have changed over time, here's an example of prices of flats in York over time"
   ]
  },
  {
   "cell_type": "code",
   "execution_count": 24,
   "id": "b8229ea4",
   "metadata": {},
   "outputs": [
    {
     "data": {
      "image/png": "[encoded data removed]",
      "text/plain": [
       "<Figure size 640x480 with 1 Axes>"
      ]
     },
     "metadata": {},
     "output_type": "display_data"
    }
   ],
   "source": [
    "york_plot = plt.plot(df_mod_housing[df_mod_housing['region']=='York']['year'],\\\n",
    "         df_mod_housing[df_mod_housing['region']=='York']['flat_price'],\\\n",
    "         linestyle = '--')\n",
    "plt.title('flat prices in York over time')\n",
    "plt.grid()\n",
    "plt.xlabel('year');\n",
    "plt.ylabel('price [£]');"
   ]
  },
  {
   "cell_type": "markdown",
   "id": "29380076",
   "metadata": {},
   "source": [
    "How does this compare to the income? df_income dataset will be loaded from the ONS database"
   ]
  },
  {
   "cell_type": "code",
   "execution_count": 25,
   "id": "e7f83768",
   "metadata": {},
   "outputs": [
    {
     "data": {
      "text/html": [
       "<div>\n",
       "<style scoped>\n",
       "    .dataframe tbody tr th:only-of-type {\n",
       "        vertical-align: middle;\n",
       "    }\n",
       "\n",
       "    .dataframe tbody tr th {\n",
       "        vertical-align: top;\n",
       "    }\n",
       "\n",
       "    .dataframe thead th {\n",
       "        text-align: right;\n",
       "    }\n",
       "</style>\n",
       "<table border=\"1\" class=\"dataframe\">\n",
       "  <thead>\n",
       "    <tr style=\"text-align: right;\">\n",
       "      <th></th>\n",
       "      <th>Year</th>\n",
       "      <th>Mean</th>\n",
       "      <th>Median</th>\n",
       "    </tr>\n",
       "  </thead>\n",
       "  <tbody>\n",
       "    <tr>\n",
       "      <th>0</th>\n",
       "      <td>1977</td>\n",
       "      <td>15246</td>\n",
       "      <td>13682</td>\n",
       "    </tr>\n",
       "    <tr>\n",
       "      <th>1</th>\n",
       "      <td>1978</td>\n",
       "      <td>16629</td>\n",
       "      <td>15137</td>\n",
       "    </tr>\n",
       "  </tbody>\n",
       "</table>\n",
       "</div>"
      ],
      "text/plain": [
       "   Year   Mean  Median\n",
       "0  1977  15246   13682\n",
       "1  1978  16629   15137"
      ]
     },
     "metadata": {},
     "output_type": "display_data"
    },
    {
     "data": {
      "text/html": [
       "<div>\n",
       "<style scoped>\n",
       "    .dataframe tbody tr th:only-of-type {\n",
       "        vertical-align: middle;\n",
       "    }\n",
       "\n",
       "    .dataframe tbody tr th {\n",
       "        vertical-align: top;\n",
       "    }\n",
       "\n",
       "    .dataframe thead th {\n",
       "        text-align: right;\n",
       "    }\n",
       "</style>\n",
       "<table border=\"1\" class=\"dataframe\">\n",
       "  <thead>\n",
       "    <tr style=\"text-align: right;\">\n",
       "      <th></th>\n",
       "      <th>Year</th>\n",
       "      <th>Mean</th>\n",
       "      <th>Median</th>\n",
       "    </tr>\n",
       "  </thead>\n",
       "  <tbody>\n",
       "    <tr>\n",
       "      <th>43</th>\n",
       "      <td>2020/21</td>\n",
       "      <td>38994</td>\n",
       "      <td>32529</td>\n",
       "    </tr>\n",
       "    <tr>\n",
       "      <th>44</th>\n",
       "      <td>2021/22</td>\n",
       "      <td>39328</td>\n",
       "      <td>32349</td>\n",
       "    </tr>\n",
       "  </tbody>\n",
       "</table>\n",
       "</div>"
      ],
      "text/plain": [
       "       Year   Mean  Median\n",
       "43  2020/21  38994   32529\n",
       "44  2021/22  39328   32349"
      ]
     },
     "metadata": {},
     "output_type": "display_data"
    },
    {
     "data": {
      "text/html": [
       "<div>\n",
       "<style scoped>\n",
       "    .dataframe tbody tr th:only-of-type {\n",
       "        vertical-align: middle;\n",
       "    }\n",
       "\n",
       "    .dataframe tbody tr th {\n",
       "        vertical-align: top;\n",
       "    }\n",
       "\n",
       "    .dataframe thead th {\n",
       "        text-align: right;\n",
       "    }\n",
       "</style>\n",
       "<table border=\"1\" class=\"dataframe\">\n",
       "  <thead>\n",
       "    <tr style=\"text-align: right;\">\n",
       "      <th></th>\n",
       "      <th>Mean</th>\n",
       "      <th>Median</th>\n",
       "    </tr>\n",
       "  </thead>\n",
       "  <tbody>\n",
       "    <tr>\n",
       "      <th>count</th>\n",
       "      <td>45.000000</td>\n",
       "      <td>45.000000</td>\n",
       "    </tr>\n",
       "    <tr>\n",
       "      <th>mean</th>\n",
       "      <td>29143.977778</td>\n",
       "      <td>24031.600000</td>\n",
       "    </tr>\n",
       "    <tr>\n",
       "      <th>std</th>\n",
       "      <td>7907.769940</td>\n",
       "      <td>5778.047226</td>\n",
       "    </tr>\n",
       "    <tr>\n",
       "      <th>min</th>\n",
       "      <td>15246.000000</td>\n",
       "      <td>13682.000000</td>\n",
       "    </tr>\n",
       "    <tr>\n",
       "      <th>25%</th>\n",
       "      <td>23627.000000</td>\n",
       "      <td>19877.000000</td>\n",
       "    </tr>\n",
       "    <tr>\n",
       "      <th>50%</th>\n",
       "      <td>29623.000000</td>\n",
       "      <td>24605.000000</td>\n",
       "    </tr>\n",
       "    <tr>\n",
       "      <th>75%</th>\n",
       "      <td>36621.000000</td>\n",
       "      <td>29165.000000</td>\n",
       "    </tr>\n",
       "    <tr>\n",
       "      <th>max</th>\n",
       "      <td>39328.000000</td>\n",
       "      <td>32529.000000</td>\n",
       "    </tr>\n",
       "  </tbody>\n",
       "</table>\n",
       "</div>"
      ],
      "text/plain": [
       "               Mean        Median\n",
       "count     45.000000     45.000000\n",
       "mean   29143.977778  24031.600000\n",
       "std     7907.769940   5778.047226\n",
       "min    15246.000000  13682.000000\n",
       "25%    23627.000000  19877.000000\n",
       "50%    29623.000000  24605.000000\n",
       "75%    36621.000000  29165.000000\n",
       "max    39328.000000  32529.000000"
      ]
     },
     "metadata": {},
     "output_type": "display_data"
    }
   ],
   "source": [
    "df_income = pd.read_csv('data/income.csv')\n",
    "display(df_income.head(2),df_income.tail(2), df_income.describe())"
   ]
  },
  {
   "cell_type": "markdown",
   "id": "4d64591b",
   "metadata": {},
   "source": [
    "The year columns needs some formatting, so it is wise to create and apply a function on the column"
   ]
  },
  {
   "cell_type": "code",
   "execution_count": 26,
   "id": "0bd4b81b",
   "metadata": {},
   "outputs": [],
   "source": [
    "def splitting(year):\n",
    "    a = year.split('/')[0]\n",
    "    return a"
   ]
  },
  {
   "cell_type": "code",
   "execution_count": 27,
   "id": "6a4f4d2a",
   "metadata": {},
   "outputs": [
    {
     "data": {
      "text/html": [
       "<div>\n",
       "<style scoped>\n",
       "    .dataframe tbody tr th:only-of-type {\n",
       "        vertical-align: middle;\n",
       "    }\n",
       "\n",
       "    .dataframe tbody tr th {\n",
       "        vertical-align: top;\n",
       "    }\n",
       "\n",
       "    .dataframe thead th {\n",
       "        text-align: right;\n",
       "    }\n",
       "</style>\n",
       "<table border=\"1\" class=\"dataframe\">\n",
       "  <thead>\n",
       "    <tr style=\"text-align: right;\">\n",
       "      <th></th>\n",
       "      <th>Year</th>\n",
       "      <th>Mean</th>\n",
       "      <th>Median</th>\n",
       "    </tr>\n",
       "  </thead>\n",
       "  <tbody>\n",
       "    <tr>\n",
       "      <th>43</th>\n",
       "      <td>2020</td>\n",
       "      <td>38994</td>\n",
       "      <td>32529</td>\n",
       "    </tr>\n",
       "    <tr>\n",
       "      <th>44</th>\n",
       "      <td>2021</td>\n",
       "      <td>39328</td>\n",
       "      <td>32349</td>\n",
       "    </tr>\n",
       "  </tbody>\n",
       "</table>\n",
       "</div>"
      ],
      "text/plain": [
       "    Year   Mean  Median\n",
       "43  2020  38994   32529\n",
       "44  2021  39328   32349"
      ]
     },
     "execution_count": 27,
     "metadata": {},
     "output_type": "execute_result"
    }
   ],
   "source": [
    "df_income['Year'] = df_income['Year'].apply(splitting).astype(int)\n",
    "df_income.tail(2)"
   ]
  },
  {
   "cell_type": "code",
   "execution_count": 28,
   "id": "ee3660fd",
   "metadata": {},
   "outputs": [
    {
     "data": {
      "text/html": [
       "<div>\n",
       "<style scoped>\n",
       "    .dataframe tbody tr th:only-of-type {\n",
       "        vertical-align: middle;\n",
       "    }\n",
       "\n",
       "    .dataframe tbody tr th {\n",
       "        vertical-align: top;\n",
       "    }\n",
       "\n",
       "    .dataframe thead th {\n",
       "        text-align: right;\n",
       "    }\n",
       "</style>\n",
       "<table border=\"1\" class=\"dataframe\">\n",
       "  <thead>\n",
       "    <tr style=\"text-align: right;\">\n",
       "      <th></th>\n",
       "      <th>Year</th>\n",
       "      <th>Mean</th>\n",
       "      <th>Median</th>\n",
       "    </tr>\n",
       "  </thead>\n",
       "  <tbody>\n",
       "    <tr>\n",
       "      <th>count</th>\n",
       "      <td>45.000000</td>\n",
       "      <td>45.000000</td>\n",
       "      <td>45.000000</td>\n",
       "    </tr>\n",
       "    <tr>\n",
       "      <th>mean</th>\n",
       "      <td>1999.000000</td>\n",
       "      <td>29143.977778</td>\n",
       "      <td>24031.600000</td>\n",
       "    </tr>\n",
       "    <tr>\n",
       "      <th>std</th>\n",
       "      <td>13.133926</td>\n",
       "      <td>7907.769940</td>\n",
       "      <td>5778.047226</td>\n",
       "    </tr>\n",
       "    <tr>\n",
       "      <th>min</th>\n",
       "      <td>1977.000000</td>\n",
       "      <td>15246.000000</td>\n",
       "      <td>13682.000000</td>\n",
       "    </tr>\n",
       "    <tr>\n",
       "      <th>25%</th>\n",
       "      <td>1988.000000</td>\n",
       "      <td>23627.000000</td>\n",
       "      <td>19877.000000</td>\n",
       "    </tr>\n",
       "    <tr>\n",
       "      <th>50%</th>\n",
       "      <td>1999.000000</td>\n",
       "      <td>29623.000000</td>\n",
       "      <td>24605.000000</td>\n",
       "    </tr>\n",
       "    <tr>\n",
       "      <th>75%</th>\n",
       "      <td>2010.000000</td>\n",
       "      <td>36621.000000</td>\n",
       "      <td>29165.000000</td>\n",
       "    </tr>\n",
       "    <tr>\n",
       "      <th>max</th>\n",
       "      <td>2021.000000</td>\n",
       "      <td>39328.000000</td>\n",
       "      <td>32529.000000</td>\n",
       "    </tr>\n",
       "  </tbody>\n",
       "</table>\n",
       "</div>"
      ],
      "text/plain": [
       "              Year          Mean        Median\n",
       "count    45.000000     45.000000     45.000000\n",
       "mean   1999.000000  29143.977778  24031.600000\n",
       "std      13.133926   7907.769940   5778.047226\n",
       "min    1977.000000  15246.000000  13682.000000\n",
       "25%    1988.000000  23627.000000  19877.000000\n",
       "50%    1999.000000  29623.000000  24605.000000\n",
       "75%    2010.000000  36621.000000  29165.000000\n",
       "max    2021.000000  39328.000000  32529.000000"
      ]
     },
     "execution_count": 28,
     "metadata": {},
     "output_type": "execute_result"
    }
   ],
   "source": [
    "df_income.describe()"
   ]
  },
  {
   "cell_type": "code",
   "execution_count": 29,
   "id": "827e5411",
   "metadata": {},
   "outputs": [
    {
     "data": {
      "text/plain": [
       "1"
      ]
     },
     "execution_count": 29,
     "metadata": {},
     "output_type": "execute_result"
    }
   ],
   "source": [
    "max(df_income['Year'].value_counts())"
   ]
  },
  {
   "cell_type": "code",
   "execution_count": 30,
   "id": "9e5d2115",
   "metadata": {},
   "outputs": [],
   "source": [
    "df_income.rename(columns = {'Year':'year','Mean':'income_mean','Median':'income_median'}, inplace = True)"
   ]
  },
  {
   "cell_type": "code",
   "execution_count": 31,
   "id": "eda89767",
   "metadata": {},
   "outputs": [
    {
     "data": {
      "text/html": [
       "<div>\n",
       "<style scoped>\n",
       "    .dataframe tbody tr th:only-of-type {\n",
       "        vertical-align: middle;\n",
       "    }\n",
       "\n",
       "    .dataframe tbody tr th {\n",
       "        vertical-align: top;\n",
       "    }\n",
       "\n",
       "    .dataframe thead th {\n",
       "        text-align: right;\n",
       "    }\n",
       "</style>\n",
       "<table border=\"1\" class=\"dataframe\">\n",
       "  <thead>\n",
       "    <tr style=\"text-align: right;\">\n",
       "      <th></th>\n",
       "      <th>year</th>\n",
       "      <th>income_mean</th>\n",
       "      <th>income_median</th>\n",
       "    </tr>\n",
       "  </thead>\n",
       "  <tbody>\n",
       "    <tr>\n",
       "      <th>0</th>\n",
       "      <td>1977</td>\n",
       "      <td>15246</td>\n",
       "      <td>13682</td>\n",
       "    </tr>\n",
       "    <tr>\n",
       "      <th>1</th>\n",
       "      <td>1978</td>\n",
       "      <td>16629</td>\n",
       "      <td>15137</td>\n",
       "    </tr>\n",
       "  </tbody>\n",
       "</table>\n",
       "</div>"
      ],
      "text/plain": [
       "   year  income_mean  income_median\n",
       "0  1977        15246          13682\n",
       "1  1978        16629          15137"
      ]
     },
     "execution_count": 31,
     "metadata": {},
     "output_type": "execute_result"
    }
   ],
   "source": [
    "df_income.head(2)"
   ]
  },
  {
   "cell_type": "markdown",
   "id": "6efed9a9",
   "metadata": {},
   "source": [
    "Let's filter the year so as such it maches with the modern housing year range"
   ]
  },
  {
   "cell_type": "code",
   "execution_count": 32,
   "id": "4b7d5aea",
   "metadata": {},
   "outputs": [],
   "source": [
    "max_year = max(df_mod_housing['year'])\n",
    "min_year = min(df_mod_housing['year'])"
   ]
  },
  {
   "cell_type": "code",
   "execution_count": 33,
   "id": "ff6fe4dc",
   "metadata": {},
   "outputs": [],
   "source": [
    "#similarly to the mod_housing, we now define df_mod_income"
   ]
  },
  {
   "cell_type": "code",
   "execution_count": 34,
   "id": "eeec07db",
   "metadata": {},
   "outputs": [],
   "source": [
    "df_mod_income = df_income[df_income['year']<=max_year]\n",
    "df_mod_income = df_mod_income[df_mod_income['year']>=min_year]"
   ]
  },
  {
   "cell_type": "code",
   "execution_count": 35,
   "id": "e1890f56",
   "metadata": {},
   "outputs": [
    {
     "data": {
      "text/html": [
       "<div>\n",
       "<style scoped>\n",
       "    .dataframe tbody tr th:only-of-type {\n",
       "        vertical-align: middle;\n",
       "    }\n",
       "\n",
       "    .dataframe tbody tr th {\n",
       "        vertical-align: top;\n",
       "    }\n",
       "\n",
       "    .dataframe thead th {\n",
       "        text-align: right;\n",
       "    }\n",
       "</style>\n",
       "<table border=\"1\" class=\"dataframe\">\n",
       "  <thead>\n",
       "    <tr style=\"text-align: right;\">\n",
       "      <th></th>\n",
       "      <th>year</th>\n",
       "      <th>income_mean</th>\n",
       "      <th>income_median</th>\n",
       "    </tr>\n",
       "  </thead>\n",
       "  <tbody>\n",
       "    <tr>\n",
       "      <th>18</th>\n",
       "      <td>1995</td>\n",
       "      <td>24709</td>\n",
       "      <td>20926</td>\n",
       "    </tr>\n",
       "    <tr>\n",
       "      <th>19</th>\n",
       "      <td>1996</td>\n",
       "      <td>26100</td>\n",
       "      <td>22086</td>\n",
       "    </tr>\n",
       "    <tr>\n",
       "      <th>20</th>\n",
       "      <td>1997</td>\n",
       "      <td>27278</td>\n",
       "      <td>22649</td>\n",
       "    </tr>\n",
       "    <tr>\n",
       "      <th>21</th>\n",
       "      <td>1998</td>\n",
       "      <td>27913</td>\n",
       "      <td>23126</td>\n",
       "    </tr>\n",
       "    <tr>\n",
       "      <th>22</th>\n",
       "      <td>1999</td>\n",
       "      <td>29623</td>\n",
       "      <td>24605</td>\n",
       "    </tr>\n",
       "  </tbody>\n",
       "</table>\n",
       "</div>"
      ],
      "text/plain": [
       "    year  income_mean  income_median\n",
       "18  1995        24709          20926\n",
       "19  1996        26100          22086\n",
       "20  1997        27278          22649\n",
       "21  1998        27913          23126\n",
       "22  1999        29623          24605"
      ]
     },
     "execution_count": 35,
     "metadata": {},
     "output_type": "execute_result"
    }
   ],
   "source": [
    "df_mod_income.head()"
   ]
  },
  {
   "cell_type": "markdown",
   "id": "63608b75",
   "metadata": {},
   "source": [
    "Let's join the dataframe df_mod_housing and df_mod_income together.\n",
    "This will create a new dataframe called df_house_income"
   ]
  },
  {
   "cell_type": "code",
   "execution_count": 36,
   "id": "c5b5c20a",
   "metadata": {},
   "outputs": [],
   "source": [
    "df_mod_income.set_index('year',inplace=True)"
   ]
  },
  {
   "cell_type": "code",
   "execution_count": 37,
   "id": "2a0e476c",
   "metadata": {},
   "outputs": [],
   "source": [
    "cols_for_maths = ['detached_price','semidetached_price','terraced_price','flat_price']"
   ]
  },
  {
   "cell_type": "code",
   "execution_count": 38,
   "id": "b079509f",
   "metadata": {},
   "outputs": [],
   "source": [
    "df_house_income = df_mod_housing.groupby('year')[cols_for_maths].agg(['median'])"
   ]
  },
  {
   "cell_type": "code",
   "execution_count": 39,
   "id": "9fa9796a",
   "metadata": {},
   "outputs": [],
   "source": [
    "df_house_income['income_median'] = df_mod_income.loc[df_mod_income.index,'income_median']"
   ]
  },
  {
   "cell_type": "code",
   "execution_count": 40,
   "id": "a83a644c",
   "metadata": {},
   "outputs": [
    {
     "data": {
      "text/html": [
       "<div>\n",
       "<style scoped>\n",
       "    .dataframe tbody tr th:only-of-type {\n",
       "        vertical-align: middle;\n",
       "    }\n",
       "\n",
       "    .dataframe tbody tr th {\n",
       "        vertical-align: top;\n",
       "    }\n",
       "\n",
       "    .dataframe thead tr th {\n",
       "        text-align: left;\n",
       "    }\n",
       "\n",
       "    .dataframe thead tr:last-of-type th {\n",
       "        text-align: right;\n",
       "    }\n",
       "</style>\n",
       "<table border=\"1\" class=\"dataframe\">\n",
       "  <thead>\n",
       "    <tr>\n",
       "      <th></th>\n",
       "      <th>detached_price</th>\n",
       "      <th>semidetached_price</th>\n",
       "      <th>terraced_price</th>\n",
       "      <th>flat_price</th>\n",
       "      <th>income_median</th>\n",
       "    </tr>\n",
       "    <tr>\n",
       "      <th></th>\n",
       "      <th>median</th>\n",
       "      <th>median</th>\n",
       "      <th>median</th>\n",
       "      <th>median</th>\n",
       "      <th></th>\n",
       "    </tr>\n",
       "    <tr>\n",
       "      <th>year</th>\n",
       "      <th></th>\n",
       "      <th></th>\n",
       "      <th></th>\n",
       "      <th></th>\n",
       "      <th></th>\n",
       "    </tr>\n",
       "  </thead>\n",
       "  <tbody>\n",
       "    <tr>\n",
       "      <th>1995</th>\n",
       "      <td>85122.676125</td>\n",
       "      <td>52699.640835</td>\n",
       "      <td>41540.265555</td>\n",
       "      <td>36030.204110</td>\n",
       "      <td>20926</td>\n",
       "    </tr>\n",
       "    <tr>\n",
       "      <th>1996</th>\n",
       "      <td>86279.882660</td>\n",
       "      <td>53198.020350</td>\n",
       "      <td>41937.793825</td>\n",
       "      <td>35595.900810</td>\n",
       "      <td>22086</td>\n",
       "    </tr>\n",
       "    <tr>\n",
       "      <th>1997</th>\n",
       "      <td>93936.360830</td>\n",
       "      <td>57242.818090</td>\n",
       "      <td>45077.123405</td>\n",
       "      <td>37274.561665</td>\n",
       "      <td>22649</td>\n",
       "    </tr>\n",
       "    <tr>\n",
       "      <th>1998</th>\n",
       "      <td>101768.800150</td>\n",
       "      <td>61984.297820</td>\n",
       "      <td>48682.277115</td>\n",
       "      <td>39899.823225</td>\n",
       "      <td>23126</td>\n",
       "    </tr>\n",
       "    <tr>\n",
       "      <th>1999</th>\n",
       "      <td>109854.189900</td>\n",
       "      <td>66788.945640</td>\n",
       "      <td>52564.857210</td>\n",
       "      <td>43239.777775</td>\n",
       "      <td>24605</td>\n",
       "    </tr>\n",
       "  </tbody>\n",
       "</table>\n",
       "</div>"
      ],
      "text/plain": [
       "     detached_price semidetached_price terraced_price    flat_price  \\\n",
       "             median             median         median        median   \n",
       "year                                                                  \n",
       "1995   85122.676125       52699.640835   41540.265555  36030.204110   \n",
       "1996   86279.882660       53198.020350   41937.793825  35595.900810   \n",
       "1997   93936.360830       57242.818090   45077.123405  37274.561665   \n",
       "1998  101768.800150       61984.297820   48682.277115  39899.823225   \n",
       "1999  109854.189900       66788.945640   52564.857210  43239.777775   \n",
       "\n",
       "     income_median  \n",
       "                    \n",
       "year                \n",
       "1995         20926  \n",
       "1996         22086  \n",
       "1997         22649  \n",
       "1998         23126  \n",
       "1999         24605  "
      ]
     },
     "execution_count": 40,
     "metadata": {},
     "output_type": "execute_result"
    }
   ],
   "source": [
    "df_house_income.head()"
   ]
  },
  {
   "cell_type": "code",
   "execution_count": 41,
   "id": "e263d75c",
   "metadata": {},
   "outputs": [],
   "source": [
    "df_house_income = df_house_income.reset_index()"
   ]
  },
  {
   "cell_type": "markdown",
   "id": "4ee1e507",
   "metadata": {},
   "source": [
    "It is common practise for lenders to cap mortgages at 4.5x times the annual income, so the next logical step is seeing how the house prices/income ratio has changed over time"
   ]
  },
  {
   "cell_type": "code",
   "execution_count": 42,
   "id": "47c7ec90",
   "metadata": {},
   "outputs": [],
   "source": [
    "df_affordability = df_house_income.copy() "
   ]
  },
  {
   "cell_type": "code",
   "execution_count": 43,
   "id": "507e3e79",
   "metadata": {},
   "outputs": [],
   "source": [
    "for x in cols_for_maths:\n",
    "    df_affordability.loc[:,(x,'median')] = (df_affordability.loc[:,x]['median'])/df_house_income['income_median']"
   ]
  },
  {
   "cell_type": "code",
   "execution_count": 44,
   "id": "52f3c594",
   "metadata": {},
   "outputs": [
    {
     "data": {
      "text/html": [
       "<div>\n",
       "<style scoped>\n",
       "    .dataframe tbody tr th:only-of-type {\n",
       "        vertical-align: middle;\n",
       "    }\n",
       "\n",
       "    .dataframe tbody tr th {\n",
       "        vertical-align: top;\n",
       "    }\n",
       "\n",
       "    .dataframe thead tr th {\n",
       "        text-align: left;\n",
       "    }\n",
       "</style>\n",
       "<table border=\"1\" class=\"dataframe\">\n",
       "  <thead>\n",
       "    <tr>\n",
       "      <th></th>\n",
       "      <th>year</th>\n",
       "      <th>detached_price</th>\n",
       "      <th>semidetached_price</th>\n",
       "      <th>terraced_price</th>\n",
       "      <th>flat_price</th>\n",
       "      <th>income_median</th>\n",
       "    </tr>\n",
       "    <tr>\n",
       "      <th></th>\n",
       "      <th></th>\n",
       "      <th>median</th>\n",
       "      <th>median</th>\n",
       "      <th>median</th>\n",
       "      <th>median</th>\n",
       "      <th></th>\n",
       "    </tr>\n",
       "  </thead>\n",
       "  <tbody>\n",
       "    <tr>\n",
       "      <th>17</th>\n",
       "      <td>2012</td>\n",
       "      <td>9.167937</td>\n",
       "      <td>5.833372</td>\n",
       "      <td>4.861683</td>\n",
       "      <td>3.690168</td>\n",
       "      <td>27828</td>\n",
       "    </tr>\n",
       "    <tr>\n",
       "      <th>18</th>\n",
       "      <td>2013</td>\n",
       "      <td>9.041191</td>\n",
       "      <td>5.810903</td>\n",
       "      <td>4.819569</td>\n",
       "      <td>3.603969</td>\n",
       "      <td>28544</td>\n",
       "    </tr>\n",
       "    <tr>\n",
       "      <th>19</th>\n",
       "      <td>2014</td>\n",
       "      <td>9.173260</td>\n",
       "      <td>5.902814</td>\n",
       "      <td>4.863631</td>\n",
       "      <td>3.613076</td>\n",
       "      <td>29782</td>\n",
       "    </tr>\n",
       "    <tr>\n",
       "      <th>20</th>\n",
       "      <td>2015</td>\n",
       "      <td>9.565446</td>\n",
       "      <td>6.058717</td>\n",
       "      <td>4.993738</td>\n",
       "      <td>3.737486</td>\n",
       "      <td>30303</td>\n",
       "    </tr>\n",
       "    <tr>\n",
       "      <th>21</th>\n",
       "      <td>2016</td>\n",
       "      <td>9.878563</td>\n",
       "      <td>6.301871</td>\n",
       "      <td>5.104449</td>\n",
       "      <td>3.872953</td>\n",
       "      <td>31121</td>\n",
       "    </tr>\n",
       "    <tr>\n",
       "      <th>22</th>\n",
       "      <td>2017</td>\n",
       "      <td>10.635486</td>\n",
       "      <td>6.782208</td>\n",
       "      <td>5.422041</td>\n",
       "      <td>4.220905</td>\n",
       "      <td>30377</td>\n",
       "    </tr>\n",
       "    <tr>\n",
       "      <th>23</th>\n",
       "      <td>2018</td>\n",
       "      <td>11.029128</td>\n",
       "      <td>7.026023</td>\n",
       "      <td>5.612931</td>\n",
       "      <td>4.289186</td>\n",
       "      <td>30625</td>\n",
       "    </tr>\n",
       "    <tr>\n",
       "      <th>24</th>\n",
       "      <td>2019</td>\n",
       "      <td>10.729000</td>\n",
       "      <td>6.901071</td>\n",
       "      <td>5.487365</td>\n",
       "      <td>4.143159</td>\n",
       "      <td>31883</td>\n",
       "    </tr>\n",
       "    <tr>\n",
       "      <th>25</th>\n",
       "      <td>2020</td>\n",
       "      <td>10.839115</td>\n",
       "      <td>6.931395</td>\n",
       "      <td>5.542996</td>\n",
       "      <td>4.075438</td>\n",
       "      <td>32529</td>\n",
       "    </tr>\n",
       "    <tr>\n",
       "      <th>26</th>\n",
       "      <td>2021</td>\n",
       "      <td>12.107951</td>\n",
       "      <td>7.596367</td>\n",
       "      <td>6.097343</td>\n",
       "      <td>4.342644</td>\n",
       "      <td>32349</td>\n",
       "    </tr>\n",
       "  </tbody>\n",
       "</table>\n",
       "</div>"
      ],
      "text/plain": [
       "    year detached_price semidetached_price terraced_price flat_price  \\\n",
       "                 median             median         median     median   \n",
       "17  2012       9.167937           5.833372       4.861683   3.690168   \n",
       "18  2013       9.041191           5.810903       4.819569   3.603969   \n",
       "19  2014       9.173260           5.902814       4.863631   3.613076   \n",
       "20  2015       9.565446           6.058717       4.993738   3.737486   \n",
       "21  2016       9.878563           6.301871       5.104449   3.872953   \n",
       "22  2017      10.635486           6.782208       5.422041   4.220905   \n",
       "23  2018      11.029128           7.026023       5.612931   4.289186   \n",
       "24  2019      10.729000           6.901071       5.487365   4.143159   \n",
       "25  2020      10.839115           6.931395       5.542996   4.075438   \n",
       "26  2021      12.107951           7.596367       6.097343   4.342644   \n",
       "\n",
       "   income_median  \n",
       "                  \n",
       "17         27828  \n",
       "18         28544  \n",
       "19         29782  \n",
       "20         30303  \n",
       "21         31121  \n",
       "22         30377  \n",
       "23         30625  \n",
       "24         31883  \n",
       "25         32529  \n",
       "26         32349  "
      ]
     },
     "execution_count": 44,
     "metadata": {},
     "output_type": "execute_result"
    }
   ],
   "source": [
    "df_affordability.tail(10)"
   ]
  },
  {
   "cell_type": "code",
   "execution_count": 45,
   "id": "488fbe8b",
   "metadata": {},
   "outputs": [
    {
     "data": {
      "image/png": "[encoded data removed]",
      "text/plain": [
       "<Figure size 640x480 with 1 Axes>"
      ]
     },
     "metadata": {},
     "output_type": "display_data"
    }
   ],
   "source": [
    "aff_plot = df_affordability.plot(x='year', \\\n",
    "y =['flat_price','terraced_price','semidetached_price','detached_price'], \\\n",
    "label = ['flat','terraced','semidetached','detached'], \\\n",
    "title = 'ratio property price/income', \\\n",
    "ylabel = 'property price/income') ;"
   ]
  },
  {
   "cell_type": "markdown",
   "id": "91fac379",
   "metadata": {},
   "source": [
    "Let's zoom in 2021 and see what is affordable right now"
   ]
  },
  {
   "cell_type": "code",
   "execution_count": 46,
   "id": "7abc74be",
   "metadata": {},
   "outputs": [],
   "source": [
    "df_2021 = df_mod_housing[df_mod_housing['year'] == 2021]"
   ]
  },
  {
   "cell_type": "code",
   "execution_count": 47,
   "id": "f75da475",
   "metadata": {},
   "outputs": [
    {
     "data": {
      "text/html": [
       "<div>\n",
       "<style scoped>\n",
       "    .dataframe tbody tr th:only-of-type {\n",
       "        vertical-align: middle;\n",
       "    }\n",
       "\n",
       "    .dataframe tbody tr th {\n",
       "        vertical-align: top;\n",
       "    }\n",
       "\n",
       "    .dataframe thead th {\n",
       "        text-align: right;\n",
       "    }\n",
       "</style>\n",
       "<table border=\"1\" class=\"dataframe\">\n",
       "  <thead>\n",
       "    <tr style=\"text-align: right;\">\n",
       "      <th></th>\n",
       "      <th>year</th>\n",
       "      <th>month</th>\n",
       "      <th>date</th>\n",
       "      <th>region</th>\n",
       "      <th>average_price</th>\n",
       "      <th>sales_volume</th>\n",
       "      <th>detached_price</th>\n",
       "      <th>semidetached_price</th>\n",
       "      <th>terraced_price</th>\n",
       "      <th>flat_price</th>\n",
       "    </tr>\n",
       "  </thead>\n",
       "  <tbody>\n",
       "    <tr>\n",
       "      <th>204</th>\n",
       "      <td>2021</td>\n",
       "      <td>1</td>\n",
       "      <td>2021-01-01</td>\n",
       "      <td>Aberdeenshire</td>\n",
       "      <td>179923.9010</td>\n",
       "      <td>329.0</td>\n",
       "      <td>255915.7796</td>\n",
       "      <td>156177.1014</td>\n",
       "      <td>129518.3662</td>\n",
       "      <td>96663.05678</td>\n",
       "    </tr>\n",
       "    <tr>\n",
       "      <th>205</th>\n",
       "      <td>2021</td>\n",
       "      <td>2</td>\n",
       "      <td>2021-01-02</td>\n",
       "      <td>Aberdeenshire</td>\n",
       "      <td>180406.3732</td>\n",
       "      <td>307.0</td>\n",
       "      <td>257000.3041</td>\n",
       "      <td>156540.6089</td>\n",
       "      <td>129801.6509</td>\n",
       "      <td>96367.81141</td>\n",
       "    </tr>\n",
       "  </tbody>\n",
       "</table>\n",
       "</div>"
      ],
      "text/plain": [
       "     year  month       date         region  average_price  sales_volume  \\\n",
       "204  2021      1 2021-01-01  Aberdeenshire    179923.9010         329.0   \n",
       "205  2021      2 2021-01-02  Aberdeenshire    180406.3732         307.0   \n",
       "\n",
       "     detached_price  semidetached_price  terraced_price   flat_price  \n",
       "204     255915.7796         156177.1014     129518.3662  96663.05678  \n",
       "205     257000.3041         156540.6089     129801.6509  96367.81141  "
      ]
     },
     "execution_count": 47,
     "metadata": {},
     "output_type": "execute_result"
    }
   ],
   "source": [
    "df_2021.head(2)"
   ]
  },
  {
   "cell_type": "code",
   "execution_count": 48,
   "id": "e77c79fe",
   "metadata": {},
   "outputs": [],
   "source": [
    "df_2021 = df_2021.merge(df_income, how = 'left', on = 'year')"
   ]
  },
  {
   "cell_type": "code",
   "execution_count": 49,
   "id": "6666f524",
   "metadata": {},
   "outputs": [],
   "source": [
    "for col in cols_for_maths:\n",
    "    df_2021[f'ratio_{col}'] = df_2021[col]/df_2021['income_median']"
   ]
  },
  {
   "cell_type": "code",
   "execution_count": 50,
   "id": "9d26bc81",
   "metadata": {},
   "outputs": [],
   "source": [
    "df_2021.rename(columns = {'income_median':'income', \\\n",
    "                                            'ratio_detached_price':'detached', \\\n",
    "                                            'ratio_semidetached_price':'semidetached', \\\n",
    "                                            'ratio_terraced_price':'terraced', \\\n",
    "                                            'ratio_flat_price':'flat'},inplace = True)"
   ]
  },
  {
   "cell_type": "code",
   "execution_count": 51,
   "id": "343ad6cb",
   "metadata": {},
   "outputs": [],
   "source": [
    "df_2021 = df_2021.groupby('region')[['income',\n",
    "       'detached', 'semidetached',\n",
    "       'terraced', 'flat']].median()"
   ]
  },
  {
   "cell_type": "code",
   "execution_count": 52,
   "id": "faaa05c3",
   "metadata": {},
   "outputs": [
    {
     "data": {
      "text/html": [
       "<div>\n",
       "<style scoped>\n",
       "    .dataframe tbody tr th:only-of-type {\n",
       "        vertical-align: middle;\n",
       "    }\n",
       "\n",
       "    .dataframe tbody tr th {\n",
       "        vertical-align: top;\n",
       "    }\n",
       "\n",
       "    .dataframe thead th {\n",
       "        text-align: right;\n",
       "    }\n",
       "</style>\n",
       "<table border=\"1\" class=\"dataframe\">\n",
       "  <thead>\n",
       "    <tr style=\"text-align: right;\">\n",
       "      <th></th>\n",
       "      <th>income</th>\n",
       "      <th>detached</th>\n",
       "      <th>semidetached</th>\n",
       "      <th>terraced</th>\n",
       "      <th>flat</th>\n",
       "    </tr>\n",
       "    <tr>\n",
       "      <th>region</th>\n",
       "      <th></th>\n",
       "      <th></th>\n",
       "      <th></th>\n",
       "      <th></th>\n",
       "      <th></th>\n",
       "    </tr>\n",
       "  </thead>\n",
       "  <tbody>\n",
       "    <tr>\n",
       "      <th>Aberdeenshire</th>\n",
       "      <td>32349.0</td>\n",
       "      <td>8.353747</td>\n",
       "      <td>5.109642</td>\n",
       "      <td>4.243926</td>\n",
       "      <td>3.103717</td>\n",
       "    </tr>\n",
       "    <tr>\n",
       "      <th>Adur</th>\n",
       "      <td>32349.0</td>\n",
       "      <td>16.287415</td>\n",
       "      <td>11.858804</td>\n",
       "      <td>10.222627</td>\n",
       "      <td>6.327388</td>\n",
       "    </tr>\n",
       "    <tr>\n",
       "      <th>Allerdale</th>\n",
       "      <td>32349.0</td>\n",
       "      <td>7.751498</td>\n",
       "      <td>5.031183</td>\n",
       "      <td>4.183521</td>\n",
       "      <td>3.213731</td>\n",
       "    </tr>\n",
       "    <tr>\n",
       "      <th>Amber Valley</th>\n",
       "      <td>32349.0</td>\n",
       "      <td>9.042407</td>\n",
       "      <td>5.622224</td>\n",
       "      <td>4.644384</td>\n",
       "      <td>3.558410</td>\n",
       "    </tr>\n",
       "    <tr>\n",
       "      <th>Angus</th>\n",
       "      <td>32349.0</td>\n",
       "      <td>7.943714</td>\n",
       "      <td>5.078552</td>\n",
       "      <td>3.662363</td>\n",
       "      <td>2.738313</td>\n",
       "    </tr>\n",
       "    <tr>\n",
       "      <th>...</th>\n",
       "      <td>...</td>\n",
       "      <td>...</td>\n",
       "      <td>...</td>\n",
       "      <td>...</td>\n",
       "      <td>...</td>\n",
       "    </tr>\n",
       "    <tr>\n",
       "      <th>Wychavon</th>\n",
       "      <td>32349.0</td>\n",
       "      <td>13.821759</td>\n",
       "      <td>8.211313</td>\n",
       "      <td>6.411797</td>\n",
       "      <td>4.439958</td>\n",
       "    </tr>\n",
       "    <tr>\n",
       "      <th>Wyre</th>\n",
       "      <td>32349.0</td>\n",
       "      <td>7.982326</td>\n",
       "      <td>5.126274</td>\n",
       "      <td>4.103379</td>\n",
       "      <td>2.924310</td>\n",
       "    </tr>\n",
       "    <tr>\n",
       "      <th>Wyre Forest</th>\n",
       "      <td>32349.0</td>\n",
       "      <td>10.569196</td>\n",
       "      <td>6.516106</td>\n",
       "      <td>5.285798</td>\n",
       "      <td>3.577798</td>\n",
       "    </tr>\n",
       "    <tr>\n",
       "      <th>York</th>\n",
       "      <td>32349.0</td>\n",
       "      <td>14.225087</td>\n",
       "      <td>9.105549</td>\n",
       "      <td>7.638921</td>\n",
       "      <td>5.519932</td>\n",
       "    </tr>\n",
       "    <tr>\n",
       "      <th>Yorkshire and The Humber</th>\n",
       "      <td>32349.0</td>\n",
       "      <td>9.354487</td>\n",
       "      <td>5.703004</td>\n",
       "      <td>4.530085</td>\n",
       "      <td>3.853506</td>\n",
       "    </tr>\n",
       "  </tbody>\n",
       "</table>\n",
       "<p>421 rows × 5 columns</p>\n",
       "</div>"
      ],
      "text/plain": [
       "                           income   detached  semidetached   terraced  \\\n",
       "region                                                                  \n",
       "Aberdeenshire             32349.0   8.353747      5.109642   4.243926   \n",
       "Adur                      32349.0  16.287415     11.858804  10.222627   \n",
       "Allerdale                 32349.0   7.751498      5.031183   4.183521   \n",
       "Amber Valley              32349.0   9.042407      5.622224   4.644384   \n",
       "Angus                     32349.0   7.943714      5.078552   3.662363   \n",
       "...                           ...        ...           ...        ...   \n",
       "Wychavon                  32349.0  13.821759      8.211313   6.411797   \n",
       "Wyre                      32349.0   7.982326      5.126274   4.103379   \n",
       "Wyre Forest               32349.0  10.569196      6.516106   5.285798   \n",
       "York                      32349.0  14.225087      9.105549   7.638921   \n",
       "Yorkshire and The Humber  32349.0   9.354487      5.703004   4.530085   \n",
       "\n",
       "                              flat  \n",
       "region                              \n",
       "Aberdeenshire             3.103717  \n",
       "Adur                      6.327388  \n",
       "Allerdale                 3.213731  \n",
       "Amber Valley              3.558410  \n",
       "Angus                     2.738313  \n",
       "...                            ...  \n",
       "Wychavon                  4.439958  \n",
       "Wyre                      2.924310  \n",
       "Wyre Forest               3.577798  \n",
       "York                      5.519932  \n",
       "Yorkshire and The Humber  3.853506  \n",
       "\n",
       "[421 rows x 5 columns]"
      ]
     },
     "execution_count": 52,
     "metadata": {},
     "output_type": "execute_result"
    }
   ],
   "source": [
    "df_2021"
   ]
  },
  {
   "cell_type": "markdown",
   "id": "a2a72e5f",
   "metadata": {},
   "source": [
    "Let's see what is affordable out of the 421 regions"
   ]
  },
  {
   "cell_type": "code",
   "execution_count": 53,
   "id": "6907983e",
   "metadata": {},
   "outputs": [],
   "source": [
    "def affordable_single(data,property_type):\n",
    "    aff_dataset = data[data[property_type] < 4.5]\n",
    "    return aff_dataset"
   ]
  },
  {
   "cell_type": "code",
   "execution_count": 54,
   "id": "3420ab40",
   "metadata": {},
   "outputs": [],
   "source": [
    "def affordable_couples(data,property_type):\n",
    "    aff_dataset = data[data[property_type] < 9]\n",
    "    return aff_dataset"
   ]
  },
  {
   "cell_type": "code",
   "execution_count": 55,
   "id": "1ddb0e19",
   "metadata": {},
   "outputs": [
    {
     "name": "stdout",
     "output_type": "stream",
     "text": [
      "230 areas(54.6% of all areas) for affordable flat properties for single people\n",
      "116 areas(27.6% of all areas) for affordable terraced properties for single people\n",
      "39 areas(9.3% of all areas) for affordable semidetached properties for single people\n",
      "10 areas(2.4% of all areas) for affordable detached properties for single people\n"
     ]
    }
   ],
   "source": [
    "num_aff_single = []\n",
    "for word in ['flat','terraced','semidetached','detached']:\n",
    "    aff_word = affordable_single(df_2021,word)\n",
    "    num_aff = aff_word.shape[0]\n",
    "    perc = round(num_aff/4.21,1)\n",
    "    print(f'{num_aff} areas({perc}% of all areas) for affordable {word} properties for single people')\n",
    "    num_aff_single.append(perc)"
   ]
  },
  {
   "cell_type": "code",
   "execution_count": 56,
   "id": "412a2ff6",
   "metadata": {
    "scrolled": true
   },
   "outputs": [
    {
     "name": "stdout",
     "output_type": "stream",
     "text": [
      "382 areas(90.7% of all areas) for affordable flat properties for couples\n",
      "322 areas(76.5% of all areas) for affordable terraced properties for couples\n",
      "266 areas(63.2% of all areas) for affordable semidetached properties for couples\n",
      "116 areas(27.6% of all areas) for affordable detached properties for couples\n"
     ]
    }
   ],
   "source": [
    "num_aff_couples = []\n",
    "for word in ['flat','terraced','semidetached','detached']: \n",
    "    aff_word = affordable_couples(df_2021,word)\n",
    "    num_aff = aff_word.shape[0]\n",
    "    perc = round(num_aff/4.21,1)\n",
    "    print(f'{num_aff} areas({perc}% of all areas) for affordable {word} properties for couples')\n",
    "    num_aff_couples.append(perc)"
   ]
  },
  {
   "cell_type": "markdown",
   "id": "5e467a14",
   "metadata": {},
   "source": [
    "The following code creates a DataFrame df_areas containing some relevant information from the above statements"
   ]
  },
  {
   "cell_type": "code",
   "execution_count": 57,
   "id": "43d79f49",
   "metadata": {},
   "outputs": [],
   "source": [
    "df_areas = pd.DataFrame()"
   ]
  },
  {
   "cell_type": "code",
   "execution_count": 58,
   "id": "97eb299a",
   "metadata": {},
   "outputs": [],
   "source": [
    "df_areas = pd.DataFrame({'single_buyer':num_aff_single,'couples': num_aff_couples})\n",
    "df_areas.rename(index={0:'flat', 1:'terraced',2:'semidetached',3:'detached'},inplace=True)\n",
    "df_areas = df_areas.transpose()"
   ]
  },
  {
   "cell_type": "code",
   "execution_count": 59,
   "id": "d7961102",
   "metadata": {},
   "outputs": [
    {
     "data": {
      "text/html": [
       "<div>\n",
       "<style scoped>\n",
       "    .dataframe tbody tr th:only-of-type {\n",
       "        vertical-align: middle;\n",
       "    }\n",
       "\n",
       "    .dataframe tbody tr th {\n",
       "        vertical-align: top;\n",
       "    }\n",
       "\n",
       "    .dataframe thead th {\n",
       "        text-align: right;\n",
       "    }\n",
       "</style>\n",
       "<table border=\"1\" class=\"dataframe\">\n",
       "  <thead>\n",
       "    <tr style=\"text-align: right;\">\n",
       "      <th></th>\n",
       "      <th>flat</th>\n",
       "      <th>terraced</th>\n",
       "      <th>semidetached</th>\n",
       "      <th>detached</th>\n",
       "    </tr>\n",
       "  </thead>\n",
       "  <tbody>\n",
       "    <tr>\n",
       "      <th>single_buyer</th>\n",
       "      <td>54.6</td>\n",
       "      <td>27.6</td>\n",
       "      <td>9.3</td>\n",
       "      <td>2.4</td>\n",
       "    </tr>\n",
       "    <tr>\n",
       "      <th>couples</th>\n",
       "      <td>90.7</td>\n",
       "      <td>76.5</td>\n",
       "      <td>63.2</td>\n",
       "      <td>27.6</td>\n",
       "    </tr>\n",
       "  </tbody>\n",
       "</table>\n",
       "</div>"
      ],
      "text/plain": [
       "              flat  terraced  semidetached  detached\n",
       "single_buyer  54.6      27.6           9.3       2.4\n",
       "couples       90.7      76.5          63.2      27.6"
      ]
     },
     "execution_count": 59,
     "metadata": {},
     "output_type": "execute_result"
    }
   ],
   "source": [
    "df_areas"
   ]
  },
  {
   "cell_type": "code",
   "execution_count": 60,
   "id": "714fe259",
   "metadata": {},
   "outputs": [
    {
     "data": {
      "image/png": "[encoded data removed]",
      "text/plain": [
       "<Figure size 640x480 with 1 Axes>"
      ]
     },
     "metadata": {},
     "output_type": "display_data"
    }
   ],
   "source": [
    "df_areas.plot.barh(title='% of UK areas with affordable properties',\\\n",
    "                  xlabel = 'areas of the UK with affordable properties available[%]', \\\n",
    "                  );\n",
    "plt.grid()"
   ]
  },
  {
   "cell_type": "markdown",
   "id": "bf1254dc",
   "metadata": {},
   "source": [
    "Let's see a few areas where single buyers and couple can find a property they can afford"
   ]
  },
  {
   "cell_type": "code",
   "execution_count": 61,
   "id": "a717536e",
   "metadata": {},
   "outputs": [
    {
     "data": {
      "text/plain": [
       "Index(['Wales', 'Kirklees', 'South Kesteven', 'Wirral', 'West Lancashire'], dtype='object', name='region')"
      ]
     },
     "execution_count": 61,
     "metadata": {},
     "output_type": "execute_result"
    }
   ],
   "source": [
    "aff_single_flat = affordable_single(df_2021,'flat')\n",
    "aff_single_flat.sample(5).index"
   ]
  },
  {
   "cell_type": "code",
   "execution_count": 62,
   "id": "89c8cc56",
   "metadata": {},
   "outputs": [
    {
     "data": {
      "text/plain": [
       "Index(['Melton', 'Isle of Anglesey', 'City of London', 'North Lanarkshire',\n",
       "       'City of Glasgow'],\n",
       "      dtype='object', name='region')"
      ]
     },
     "execution_count": 62,
     "metadata": {},
     "output_type": "execute_result"
    }
   ],
   "source": [
    "aff_couples_semi = affordable_couples(df_2021,'semidetached')\n",
    "aff_couples_semi.sample(5).index"
   ]
  },
  {
   "cell_type": "markdown",
   "id": "604dd73b",
   "metadata": {},
   "source": [
    "Now that it is more clear how many areas hold affordable properties, the next question would be when would be the best moment to buy a house.\n",
    "To gain some extra insight into the affordability, a new DataFrame df_rates is created containing data from commercial comparison website Uswitch"
   ]
  },
  {
   "cell_type": "code",
   "execution_count": 63,
   "id": "c7ceac49",
   "metadata": {},
   "outputs": [],
   "source": [
    "df_rates = pd.read_csv('data/rates.csv')"
   ]
  },
  {
   "cell_type": "code",
   "execution_count": 64,
   "id": "6305b128",
   "metadata": {},
   "outputs": [
    {
     "data": {
      "text/html": [
       "<div>\n",
       "<style scoped>\n",
       "    .dataframe tbody tr th:only-of-type {\n",
       "        vertical-align: middle;\n",
       "    }\n",
       "\n",
       "    .dataframe tbody tr th {\n",
       "        vertical-align: top;\n",
       "    }\n",
       "\n",
       "    .dataframe thead th {\n",
       "        text-align: right;\n",
       "    }\n",
       "</style>\n",
       "<table border=\"1\" class=\"dataframe\">\n",
       "  <thead>\n",
       "    <tr style=\"text-align: right;\">\n",
       "      <th></th>\n",
       "      <th>Unnamed: 0</th>\n",
       "      <th>95LTV 2 years</th>\n",
       "      <th>95 ltv 5 years</th>\n",
       "      <th>90ltv 2yrs</th>\n",
       "      <th>90ltv 5yrs</th>\n",
       "      <th>85ltv 2yrs</th>\n",
       "      <th>85ltv 5yrs</th>\n",
       "      <th>Unnamed: 7</th>\n",
       "      <th>Unnamed: 8</th>\n",
       "    </tr>\n",
       "  </thead>\n",
       "  <tbody>\n",
       "    <tr>\n",
       "      <th>0</th>\n",
       "      <td>NaN</td>\n",
       "      <td>Nationwide BS\\nInitial rate: 5.3% | APRC: 7.8%</td>\n",
       "      <td>Family Building Society (NCBS)\\nInitial rate: ...</td>\n",
       "      <td>HSBC\\nInitial rate: 4.89% | APRC: 6.9%</td>\n",
       "      <td>HSBC\\nInitial rate: 4.45% | APRC: 6.2%</td>\n",
       "      <td>Nationwide BS\\nInitial rate: 4.6% | APRC: 7.6%</td>\n",
       "      <td>Nationwide BS\\nInitial rate: 4.28% | APRC: 6.7%</td>\n",
       "      <td>NaN</td>\n",
       "      <td>Mortgage term 25 years data from Uswitch</td>\n",
       "    </tr>\n",
       "    <tr>\n",
       "      <th>1</th>\n",
       "      <td>NaN</td>\n",
       "      <td>Leeds BS\\nInitial rate: 5.3% | APRC: 7.7%</td>\n",
       "      <td>Tipton &amp; Coseley BS\\nInitial rate: 4.85% | APR...</td>\n",
       "      <td>Santander UK Plc\\nInitial rate: 4.89% | APRC: ...</td>\n",
       "      <td>Santander UK Plc\\nInitial rate: 4.47% | APRC: ...</td>\n",
       "      <td>Santander UK Plc\\nInitial rate: 4.64% | APRC: ...</td>\n",
       "      <td>NatWest\\nInitial rate: 4.33% | APRC: 6.7%</td>\n",
       "      <td>NaN</td>\n",
       "      <td>NaN</td>\n",
       "    </tr>\n",
       "  </tbody>\n",
       "</table>\n",
       "</div>"
      ],
      "text/plain": [
       "   Unnamed: 0                                   95LTV 2 years  \\\n",
       "0         NaN  Nationwide BS\\nInitial rate: 5.3% | APRC: 7.8%   \n",
       "1         NaN       Leeds BS\\nInitial rate: 5.3% | APRC: 7.7%   \n",
       "\n",
       "                                      95 ltv 5 years  \\\n",
       "0  Family Building Society (NCBS)\\nInitial rate: ...   \n",
       "1  Tipton & Coseley BS\\nInitial rate: 4.85% | APR...   \n",
       "\n",
       "                                          90ltv 2yrs  \\\n",
       "0             HSBC\\nInitial rate: 4.89% | APRC: 6.9%   \n",
       "1  Santander UK Plc\\nInitial rate: 4.89% | APRC: ...   \n",
       "\n",
       "                                          90ltv 5yrs  \\\n",
       "0             HSBC\\nInitial rate: 4.45% | APRC: 6.2%   \n",
       "1  Santander UK Plc\\nInitial rate: 4.47% | APRC: ...   \n",
       "\n",
       "                                          85ltv 2yrs  \\\n",
       "0     Nationwide BS\\nInitial rate: 4.6% | APRC: 7.6%   \n",
       "1  Santander UK Plc\\nInitial rate: 4.64% | APRC: ...   \n",
       "\n",
       "                                        85ltv 5yrs  Unnamed: 7  \\\n",
       "0  Nationwide BS\\nInitial rate: 4.28% | APRC: 6.7%         NaN   \n",
       "1        NatWest\\nInitial rate: 4.33% | APRC: 6.7%         NaN   \n",
       "\n",
       "                                 Unnamed: 8  \n",
       "0  Mortgage term 25 years data from Uswitch  \n",
       "1                                       NaN  "
      ]
     },
     "execution_count": 64,
     "metadata": {},
     "output_type": "execute_result"
    }
   ],
   "source": [
    "df_rates.head(2)"
   ]
  },
  {
   "cell_type": "code",
   "execution_count": 65,
   "id": "9228c7d9",
   "metadata": {},
   "outputs": [],
   "source": [
    "df_rates_copy = df_rates.copy()"
   ]
  },
  {
   "cell_type": "code",
   "execution_count": 66,
   "id": "76bafe72",
   "metadata": {},
   "outputs": [
    {
     "data": {
      "text/plain": [
       "Index(['Unnamed: 0', '95LTV 2 years', '95 ltv 5 years', '90ltv 2yrs',\n",
       "       '90ltv 5yrs', '85ltv 2yrs', '85ltv 5yrs', 'Unnamed: 7', 'Unnamed: 8'],\n",
       "      dtype='object')"
      ]
     },
     "execution_count": 66,
     "metadata": {},
     "output_type": "execute_result"
    }
   ],
   "source": [
    "df_rates_copy.columns"
   ]
  },
  {
   "cell_type": "code",
   "execution_count": 67,
   "id": "35ae3a40",
   "metadata": {},
   "outputs": [],
   "source": [
    "df_rates_copy.rename(columns = {'Unnamed: 0':'unnamed', '95LTV 2 years':'95ltv_24m', \\\n",
    "                                '95 ltv 5 years':'95ltv_60m', '90ltv 2yrs':'90ltv_24m',\n",
    "                                '90ltv 5yrs':'90ltv_60m', '85ltv 2yrs':'85ltv_24m',\\\n",
    "                                '85ltv 5yrs':'85ltv_60m', 'Unnamed: 7':'unnamed7', 'Unnamed: 8':'unnamed8'},\\\n",
    "                     inplace = True)"
   ]
  },
  {
   "cell_type": "code",
   "execution_count": 68,
   "id": "7a1b0053",
   "metadata": {},
   "outputs": [
    {
     "data": {
      "text/html": [
       "<div>\n",
       "<style scoped>\n",
       "    .dataframe tbody tr th:only-of-type {\n",
       "        vertical-align: middle;\n",
       "    }\n",
       "\n",
       "    .dataframe tbody tr th {\n",
       "        vertical-align: top;\n",
       "    }\n",
       "\n",
       "    .dataframe thead th {\n",
       "        text-align: right;\n",
       "    }\n",
       "</style>\n",
       "<table border=\"1\" class=\"dataframe\">\n",
       "  <thead>\n",
       "    <tr style=\"text-align: right;\">\n",
       "      <th></th>\n",
       "      <th>unnamed</th>\n",
       "      <th>95ltv_24m</th>\n",
       "      <th>95ltv_60m</th>\n",
       "      <th>90ltv_24m</th>\n",
       "      <th>90ltv_60m</th>\n",
       "      <th>85ltv_24m</th>\n",
       "      <th>85ltv_60m</th>\n",
       "      <th>unnamed7</th>\n",
       "      <th>unnamed8</th>\n",
       "    </tr>\n",
       "  </thead>\n",
       "  <tbody>\n",
       "    <tr>\n",
       "      <th>0</th>\n",
       "      <td>NaN</td>\n",
       "      <td>Nationwide BS\\nInitial rate: 5.3% | APRC: 7.8%</td>\n",
       "      <td>Family Building Society (NCBS)\\nInitial rate: ...</td>\n",
       "      <td>HSBC\\nInitial rate: 4.89% | APRC: 6.9%</td>\n",
       "      <td>HSBC\\nInitial rate: 4.45% | APRC: 6.2%</td>\n",
       "      <td>Nationwide BS\\nInitial rate: 4.6% | APRC: 7.6%</td>\n",
       "      <td>Nationwide BS\\nInitial rate: 4.28% | APRC: 6.7%</td>\n",
       "      <td>NaN</td>\n",
       "      <td>Mortgage term 25 years data from Uswitch</td>\n",
       "    </tr>\n",
       "    <tr>\n",
       "      <th>1</th>\n",
       "      <td>NaN</td>\n",
       "      <td>Leeds BS\\nInitial rate: 5.3% | APRC: 7.7%</td>\n",
       "      <td>Tipton &amp; Coseley BS\\nInitial rate: 4.85% | APR...</td>\n",
       "      <td>Santander UK Plc\\nInitial rate: 4.89% | APRC: ...</td>\n",
       "      <td>Santander UK Plc\\nInitial rate: 4.47% | APRC: ...</td>\n",
       "      <td>Santander UK Plc\\nInitial rate: 4.64% | APRC: ...</td>\n",
       "      <td>NatWest\\nInitial rate: 4.33% | APRC: 6.7%</td>\n",
       "      <td>NaN</td>\n",
       "      <td>NaN</td>\n",
       "    </tr>\n",
       "  </tbody>\n",
       "</table>\n",
       "</div>"
      ],
      "text/plain": [
       "   unnamed                                       95ltv_24m  \\\n",
       "0      NaN  Nationwide BS\\nInitial rate: 5.3% | APRC: 7.8%   \n",
       "1      NaN       Leeds BS\\nInitial rate: 5.3% | APRC: 7.7%   \n",
       "\n",
       "                                           95ltv_60m  \\\n",
       "0  Family Building Society (NCBS)\\nInitial rate: ...   \n",
       "1  Tipton & Coseley BS\\nInitial rate: 4.85% | APR...   \n",
       "\n",
       "                                           90ltv_24m  \\\n",
       "0             HSBC\\nInitial rate: 4.89% | APRC: 6.9%   \n",
       "1  Santander UK Plc\\nInitial rate: 4.89% | APRC: ...   \n",
       "\n",
       "                                           90ltv_60m  \\\n",
       "0             HSBC\\nInitial rate: 4.45% | APRC: 6.2%   \n",
       "1  Santander UK Plc\\nInitial rate: 4.47% | APRC: ...   \n",
       "\n",
       "                                           85ltv_24m  \\\n",
       "0     Nationwide BS\\nInitial rate: 4.6% | APRC: 7.6%   \n",
       "1  Santander UK Plc\\nInitial rate: 4.64% | APRC: ...   \n",
       "\n",
       "                                         85ltv_60m  unnamed7  \\\n",
       "0  Nationwide BS\\nInitial rate: 4.28% | APRC: 6.7%       NaN   \n",
       "1        NatWest\\nInitial rate: 4.33% | APRC: 6.7%       NaN   \n",
       "\n",
       "                                   unnamed8  \n",
       "0  Mortgage term 25 years data from Uswitch  \n",
       "1                                       NaN  "
      ]
     },
     "execution_count": 68,
     "metadata": {},
     "output_type": "execute_result"
    }
   ],
   "source": [
    "df_rates_copy.head(2)"
   ]
  },
  {
   "cell_type": "code",
   "execution_count": 69,
   "id": "85c95d01",
   "metadata": {},
   "outputs": [],
   "source": [
    "mortgage_term = 25\n",
    "num_rep = mortgage_term * 12"
   ]
  },
  {
   "cell_type": "code",
   "execution_count": 70,
   "id": "544ac887",
   "metadata": {},
   "outputs": [],
   "source": [
    "#dropping unnecessary columns\n",
    "df_rates_copy.drop(['unnamed','unnamed7','unnamed8'],axis=1,inplace=True)"
   ]
  },
  {
   "cell_type": "markdown",
   "id": "62290311",
   "metadata": {},
   "source": [
    "The following function creates the APRC rate which is crucial to determine how much the mortgage will cost over the repayment period (25years)"
   ]
  },
  {
   "cell_type": "code",
   "execution_count": 71,
   "id": "bc807d96",
   "metadata": {},
   "outputs": [],
   "source": [
    "def interest(txt):\n",
    "    q = []\n",
    "    txt = txt.split()\n",
    "    for text in txt:\n",
    "        if '%' in text:\n",
    "            q.append(text)\n",
    "            \n",
    "    q[1] = (float(q[1].strip('%')))\n",
    "    \n",
    "    return q[1]"
   ]
  },
  {
   "cell_type": "code",
   "execution_count": 72,
   "id": "daba813a",
   "metadata": {},
   "outputs": [],
   "source": [
    "df_rates_copy = df_rates_copy.applymap(interest)"
   ]
  },
  {
   "cell_type": "code",
   "execution_count": 73,
   "id": "e264a02d",
   "metadata": {},
   "outputs": [
    {
     "data": {
      "text/html": [
       "<div>\n",
       "<style scoped>\n",
       "    .dataframe tbody tr th:only-of-type {\n",
       "        vertical-align: middle;\n",
       "    }\n",
       "\n",
       "    .dataframe tbody tr th {\n",
       "        vertical-align: top;\n",
       "    }\n",
       "\n",
       "    .dataframe thead th {\n",
       "        text-align: right;\n",
       "    }\n",
       "</style>\n",
       "<table border=\"1\" class=\"dataframe\">\n",
       "  <thead>\n",
       "    <tr style=\"text-align: right;\">\n",
       "      <th></th>\n",
       "      <th>95ltv_24m</th>\n",
       "      <th>95ltv_60m</th>\n",
       "      <th>90ltv_24m</th>\n",
       "      <th>90ltv_60m</th>\n",
       "      <th>85ltv_24m</th>\n",
       "      <th>85ltv_60m</th>\n",
       "    </tr>\n",
       "  </thead>\n",
       "  <tbody>\n",
       "    <tr>\n",
       "      <th>0</th>\n",
       "      <td>7.8</td>\n",
       "      <td>7.0</td>\n",
       "      <td>6.9</td>\n",
       "      <td>6.2</td>\n",
       "      <td>7.6</td>\n",
       "      <td>6.7</td>\n",
       "    </tr>\n",
       "    <tr>\n",
       "      <th>1</th>\n",
       "      <td>7.7</td>\n",
       "      <td>7.2</td>\n",
       "      <td>7.3</td>\n",
       "      <td>6.5</td>\n",
       "      <td>7.2</td>\n",
       "      <td>6.7</td>\n",
       "    </tr>\n",
       "    <tr>\n",
       "      <th>2</th>\n",
       "      <td>7.8</td>\n",
       "      <td>7.3</td>\n",
       "      <td>7.7</td>\n",
       "      <td>6.4</td>\n",
       "      <td>7.1</td>\n",
       "      <td>6.8</td>\n",
       "    </tr>\n",
       "    <tr>\n",
       "      <th>3</th>\n",
       "      <td>6.7</td>\n",
       "      <td>7.0</td>\n",
       "      <td>7.2</td>\n",
       "      <td>6.2</td>\n",
       "      <td>8.3</td>\n",
       "      <td>6.3</td>\n",
       "    </tr>\n",
       "  </tbody>\n",
       "</table>\n",
       "</div>"
      ],
      "text/plain": [
       "   95ltv_24m  95ltv_60m  90ltv_24m  90ltv_60m  85ltv_24m  85ltv_60m\n",
       "0        7.8        7.0        6.9        6.2        7.6        6.7\n",
       "1        7.7        7.2        7.3        6.5        7.2        6.7\n",
       "2        7.8        7.3        7.7        6.4        7.1        6.8\n",
       "3        6.7        7.0        7.2        6.2        8.3        6.3"
      ]
     },
     "execution_count": 73,
     "metadata": {},
     "output_type": "execute_result"
    }
   ],
   "source": [
    "df_rates_copy"
   ]
  },
  {
   "cell_type": "markdown",
   "id": "d31ee933",
   "metadata": {},
   "source": [
    "Let's now find the cost of the mortgage by creating the new DataFrame df_rates_cost and applying the standard mortgage replayment formula to it"
   ]
  },
  {
   "cell_type": "code",
   "execution_count": 74,
   "id": "aec1880e",
   "metadata": {},
   "outputs": [
    {
     "data": {
      "text/html": [
       "<div>\n",
       "<style scoped>\n",
       "    .dataframe tbody tr th:only-of-type {\n",
       "        vertical-align: middle;\n",
       "    }\n",
       "\n",
       "    .dataframe tbody tr th {\n",
       "        vertical-align: top;\n",
       "    }\n",
       "\n",
       "    .dataframe thead th {\n",
       "        text-align: right;\n",
       "    }\n",
       "</style>\n",
       "<table border=\"1\" class=\"dataframe\">\n",
       "  <thead>\n",
       "    <tr style=\"text-align: right;\">\n",
       "      <th></th>\n",
       "      <th>95ltv_24m</th>\n",
       "      <th>95ltv_60m</th>\n",
       "      <th>90ltv_24m</th>\n",
       "      <th>90ltv_60m</th>\n",
       "      <th>85ltv_24m</th>\n",
       "      <th>85ltv_60m</th>\n",
       "    </tr>\n",
       "  </thead>\n",
       "  <tbody>\n",
       "    <tr>\n",
       "      <th>0</th>\n",
       "      <td>2.275843</td>\n",
       "      <td>2.120338</td>\n",
       "      <td>2.101238</td>\n",
       "      <td>1.969746</td>\n",
       "      <td>2.236524</td>\n",
       "      <td>2.063272</td>\n",
       "    </tr>\n",
       "    <tr>\n",
       "      <th>1</th>\n",
       "      <td>2.256147</td>\n",
       "      <td>2.158766</td>\n",
       "      <td>2.178094</td>\n",
       "      <td>2.025621</td>\n",
       "      <td>2.158766</td>\n",
       "      <td>2.063272</td>\n",
       "    </tr>\n",
       "    <tr>\n",
       "      <th>2</th>\n",
       "      <td>2.275843</td>\n",
       "      <td>2.178094</td>\n",
       "      <td>2.256147</td>\n",
       "      <td>2.006916</td>\n",
       "      <td>2.139514</td>\n",
       "      <td>2.082216</td>\n",
       "    </tr>\n",
       "    <tr>\n",
       "      <th>3</th>\n",
       "      <td>2.063272</td>\n",
       "      <td>2.120338</td>\n",
       "      <td>2.158766</td>\n",
       "      <td>1.969746</td>\n",
       "      <td>2.375383</td>\n",
       "      <td>1.988290</td>\n",
       "    </tr>\n",
       "  </tbody>\n",
       "</table>\n",
       "</div>"
      ],
      "text/plain": [
       "   95ltv_24m  95ltv_60m  90ltv_24m  90ltv_60m  85ltv_24m  85ltv_60m\n",
       "0   2.275843   2.120338   2.101238   1.969746   2.236524   2.063272\n",
       "1   2.256147   2.158766   2.178094   2.025621   2.158766   2.063272\n",
       "2   2.275843   2.178094   2.256147   2.006916   2.139514   2.082216\n",
       "3   2.063272   2.120338   2.158766   1.969746   2.375383   1.988290"
      ]
     },
     "execution_count": 74,
     "metadata": {},
     "output_type": "execute_result"
    }
   ],
   "source": [
    "df_rates_cost = df_rates_copy.copy()\n",
    "\n",
    "for m in [24,60]:\n",
    "    for l in [95,90,85]:\n",
    "        for i in range(0,4):\n",
    "            \n",
    "            rate = df_rates_cost.loc[i,f'{l}ltv_{m}m']/(1200)\n",
    "            \n",
    "            p_a = (1+rate) ** num_rep\n",
    "            \n",
    "            cost = (rate * p_a)/ (p_a - 1)\n",
    "            \n",
    "            df_rates_cost.loc[i,f'{l}ltv_{m}m'] = cost*num_rep\n",
    "            \n",
    "df_rates_cost"
   ]
  },
  {
   "cell_type": "code",
   "execution_count": 75,
   "id": "95586f27",
   "metadata": {},
   "outputs": [],
   "source": [
    "df_rates_cost.rename(columns = {'95ltv_24m':  '5%_deposit_2yrs_fixed', \\\n",
    "                                '95ltv_60m':  '5%_deposit_5yrs_fixed', \\\n",
    "                                '90ltv_24m' : '10%_deposit_2yrs_fixed', \\\n",
    "                                '90ltv_60m' : '10%_deposit_5yrs_fixed', \\\n",
    "                                '85ltv_24m' : '15%_deposit_2yrs_fixed', \\\n",
    "                                '85ltv_60m' : '15%_deposit_5yrs_fixed'}, inplace = True)"
   ]
  },
  {
   "cell_type": "code",
   "execution_count": 76,
   "id": "42bba9f9",
   "metadata": {},
   "outputs": [
    {
     "data": {
      "text/html": [
       "<div>\n",
       "<style scoped>\n",
       "    .dataframe tbody tr th:only-of-type {\n",
       "        vertical-align: middle;\n",
       "    }\n",
       "\n",
       "    .dataframe tbody tr th {\n",
       "        vertical-align: top;\n",
       "    }\n",
       "\n",
       "    .dataframe thead th {\n",
       "        text-align: right;\n",
       "    }\n",
       "</style>\n",
       "<table border=\"1\" class=\"dataframe\">\n",
       "  <thead>\n",
       "    <tr style=\"text-align: right;\">\n",
       "      <th></th>\n",
       "      <th>5%_deposit_2yrs_fixed</th>\n",
       "      <th>5%_deposit_5yrs_fixed</th>\n",
       "      <th>10%_deposit_2yrs_fixed</th>\n",
       "      <th>10%_deposit_5yrs_fixed</th>\n",
       "      <th>15%_deposit_2yrs_fixed</th>\n",
       "      <th>15%_deposit_5yrs_fixed</th>\n",
       "    </tr>\n",
       "  </thead>\n",
       "  <tbody>\n",
       "    <tr>\n",
       "      <th>0</th>\n",
       "      <td>2.275843</td>\n",
       "      <td>2.120338</td>\n",
       "      <td>2.101238</td>\n",
       "      <td>1.969746</td>\n",
       "      <td>2.236524</td>\n",
       "      <td>2.063272</td>\n",
       "    </tr>\n",
       "    <tr>\n",
       "      <th>1</th>\n",
       "      <td>2.256147</td>\n",
       "      <td>2.158766</td>\n",
       "      <td>2.178094</td>\n",
       "      <td>2.025621</td>\n",
       "      <td>2.158766</td>\n",
       "      <td>2.063272</td>\n",
       "    </tr>\n",
       "    <tr>\n",
       "      <th>2</th>\n",
       "      <td>2.275843</td>\n",
       "      <td>2.178094</td>\n",
       "      <td>2.256147</td>\n",
       "      <td>2.006916</td>\n",
       "      <td>2.139514</td>\n",
       "      <td>2.082216</td>\n",
       "    </tr>\n",
       "    <tr>\n",
       "      <th>3</th>\n",
       "      <td>2.063272</td>\n",
       "      <td>2.120338</td>\n",
       "      <td>2.158766</td>\n",
       "      <td>1.969746</td>\n",
       "      <td>2.375383</td>\n",
       "      <td>1.988290</td>\n",
       "    </tr>\n",
       "  </tbody>\n",
       "</table>\n",
       "</div>"
      ],
      "text/plain": [
       "   5%_deposit_2yrs_fixed  5%_deposit_5yrs_fixed  10%_deposit_2yrs_fixed  \\\n",
       "0               2.275843               2.120338                2.101238   \n",
       "1               2.256147               2.158766                2.178094   \n",
       "2               2.275843               2.178094                2.256147   \n",
       "3               2.063272               2.120338                2.158766   \n",
       "\n",
       "   10%_deposit_5yrs_fixed  15%_deposit_2yrs_fixed  15%_deposit_5yrs_fixed  \n",
       "0                1.969746                2.236524                2.063272  \n",
       "1                2.025621                2.158766                2.063272  \n",
       "2                2.006916                2.139514                2.082216  \n",
       "3                1.969746                2.375383                1.988290  "
      ]
     },
     "execution_count": 76,
     "metadata": {},
     "output_type": "execute_result"
    }
   ],
   "source": [
    "df_rates_cost"
   ]
  },
  {
   "cell_type": "markdown",
   "id": "51e1c562",
   "metadata": {},
   "source": [
    "Let's see the cost and barriers of buyers taking on a mortgage at the top of their budget (4.5x annual income)"
   ]
  },
  {
   "cell_type": "code",
   "execution_count": 77,
   "id": "3d6c7dd3",
   "metadata": {},
   "outputs": [
    {
     "data": {
      "text/plain": [
       "32349"
      ]
     },
     "execution_count": 77,
     "metadata": {},
     "output_type": "execute_result"
    }
   ],
   "source": [
    "income = df_income.loc[44,'income_median']\n",
    "income"
   ]
  },
  {
   "cell_type": "code",
   "execution_count": 78,
   "id": "c6bf67fa",
   "metadata": {},
   "outputs": [
    {
     "data": {
      "text/html": [
       "<div>\n",
       "<style scoped>\n",
       "    .dataframe tbody tr th:only-of-type {\n",
       "        vertical-align: middle;\n",
       "    }\n",
       "\n",
       "    .dataframe tbody tr th {\n",
       "        vertical-align: top;\n",
       "    }\n",
       "\n",
       "    .dataframe thead th {\n",
       "        text-align: right;\n",
       "    }\n",
       "</style>\n",
       "<table border=\"1\" class=\"dataframe\">\n",
       "  <thead>\n",
       "    <tr style=\"text-align: right;\">\n",
       "      <th></th>\n",
       "      <th>5%_deposit_2yrs_fixed</th>\n",
       "      <th>5%_deposit_5yrs_fixed</th>\n",
       "      <th>10%_deposit_2yrs_fixed</th>\n",
       "      <th>10%_deposit_5yrs_fixed</th>\n",
       "      <th>15%_deposit_2yrs_fixed</th>\n",
       "      <th>15%_deposit_5yrs_fixed</th>\n",
       "    </tr>\n",
       "  </thead>\n",
       "  <tbody>\n",
       "    <tr>\n",
       "      <th>0</th>\n",
       "      <td>331295.620738</td>\n",
       "      <td>308658.603411</td>\n",
       "      <td>305878.299478</td>\n",
       "      <td>286736.952081</td>\n",
       "      <td>325571.920858</td>\n",
       "      <td>300351.601789</td>\n",
       "    </tr>\n",
       "    <tr>\n",
       "      <th>1</th>\n",
       "      <td>328428.510872</td>\n",
       "      <td>314252.656807</td>\n",
       "      <td>317066.219273</td>\n",
       "      <td>294870.732243</td>\n",
       "      <td>314252.656807</td>\n",
       "      <td>300351.601789</td>\n",
       "    </tr>\n",
       "    <tr>\n",
       "      <th>2</th>\n",
       "      <td>331295.620738</td>\n",
       "      <td>317066.219273</td>\n",
       "      <td>328428.510872</td>\n",
       "      <td>292147.711725</td>\n",
       "      <td>311450.086960</td>\n",
       "      <td>303109.268097</td>\n",
       "    </tr>\n",
       "    <tr>\n",
       "      <th>3</th>\n",
       "      <td>300351.601789</td>\n",
       "      <td>308658.603411</td>\n",
       "      <td>314252.656807</td>\n",
       "      <td>286736.952081</td>\n",
       "      <td>345785.629051</td>\n",
       "      <td>289436.421663</td>\n",
       "    </tr>\n",
       "  </tbody>\n",
       "</table>\n",
       "</div>"
      ],
      "text/plain": [
       "   5%_deposit_2yrs_fixed  5%_deposit_5yrs_fixed  10%_deposit_2yrs_fixed  \\\n",
       "0          331295.620738          308658.603411           305878.299478   \n",
       "1          328428.510872          314252.656807           317066.219273   \n",
       "2          331295.620738          317066.219273           328428.510872   \n",
       "3          300351.601789          308658.603411           314252.656807   \n",
       "\n",
       "   10%_deposit_5yrs_fixed  15%_deposit_2yrs_fixed  15%_deposit_5yrs_fixed  \n",
       "0           286736.952081           325571.920858           300351.601789  \n",
       "1           294870.732243           314252.656807           300351.601789  \n",
       "2           292147.711725           311450.086960           303109.268097  \n",
       "3           286736.952081           345785.629051           289436.421663  "
      ]
     },
     "execution_count": 78,
     "metadata": {},
     "output_type": "execute_result"
    }
   ],
   "source": [
    "df_mortgage_single = df_rates_cost * income * 4.5\n",
    "df_mortgage_single"
   ]
  },
  {
   "cell_type": "code",
   "execution_count": 79,
   "id": "bbf31bfb",
   "metadata": {},
   "outputs": [
    {
     "data": {
      "text/html": [
       "<div>\n",
       "<style scoped>\n",
       "    .dataframe tbody tr th:only-of-type {\n",
       "        vertical-align: middle;\n",
       "    }\n",
       "\n",
       "    .dataframe tbody tr th {\n",
       "        vertical-align: top;\n",
       "    }\n",
       "\n",
       "    .dataframe thead th {\n",
       "        text-align: right;\n",
       "    }\n",
       "</style>\n",
       "<table border=\"1\" class=\"dataframe\">\n",
       "  <thead>\n",
       "    <tr style=\"text-align: right;\">\n",
       "      <th></th>\n",
       "      <th>5%_deposit_2yrs_fixed</th>\n",
       "      <th>5%_deposit_5yrs_fixed</th>\n",
       "      <th>10%_deposit_2yrs_fixed</th>\n",
       "      <th>10%_deposit_5yrs_fixed</th>\n",
       "      <th>15%_deposit_2yrs_fixed</th>\n",
       "      <th>15%_deposit_5yrs_fixed</th>\n",
       "    </tr>\n",
       "  </thead>\n",
       "  <tbody>\n",
       "    <tr>\n",
       "      <th>0</th>\n",
       "      <td>662591.241475</td>\n",
       "      <td>617317.206822</td>\n",
       "      <td>611756.598956</td>\n",
       "      <td>573473.904162</td>\n",
       "      <td>651143.841716</td>\n",
       "      <td>600703.203578</td>\n",
       "    </tr>\n",
       "    <tr>\n",
       "      <th>1</th>\n",
       "      <td>656857.021745</td>\n",
       "      <td>628505.313613</td>\n",
       "      <td>634132.438546</td>\n",
       "      <td>589741.464486</td>\n",
       "      <td>628505.313613</td>\n",
       "      <td>600703.203578</td>\n",
       "    </tr>\n",
       "    <tr>\n",
       "      <th>2</th>\n",
       "      <td>662591.241475</td>\n",
       "      <td>634132.438546</td>\n",
       "      <td>656857.021745</td>\n",
       "      <td>584295.423450</td>\n",
       "      <td>622900.173921</td>\n",
       "      <td>606218.536193</td>\n",
       "    </tr>\n",
       "    <tr>\n",
       "      <th>3</th>\n",
       "      <td>600703.203578</td>\n",
       "      <td>617317.206822</td>\n",
       "      <td>628505.313613</td>\n",
       "      <td>573473.904162</td>\n",
       "      <td>691571.258102</td>\n",
       "      <td>578872.843326</td>\n",
       "    </tr>\n",
       "  </tbody>\n",
       "</table>\n",
       "</div>"
      ],
      "text/plain": [
       "   5%_deposit_2yrs_fixed  5%_deposit_5yrs_fixed  10%_deposit_2yrs_fixed  \\\n",
       "0          662591.241475          617317.206822           611756.598956   \n",
       "1          656857.021745          628505.313613           634132.438546   \n",
       "2          662591.241475          634132.438546           656857.021745   \n",
       "3          600703.203578          617317.206822           628505.313613   \n",
       "\n",
       "   10%_deposit_5yrs_fixed  15%_deposit_2yrs_fixed  15%_deposit_5yrs_fixed  \n",
       "0           573473.904162           651143.841716           600703.203578  \n",
       "1           589741.464486           628505.313613           600703.203578  \n",
       "2           584295.423450           622900.173921           606218.536193  \n",
       "3           573473.904162           691571.258102           578872.843326  "
      ]
     },
     "execution_count": 79,
     "metadata": {},
     "output_type": "execute_result"
    }
   ],
   "source": [
    "df_mortgage_couple = df_rates_cost * income * 4.5 * 2\n",
    "df_mortgage_couple"
   ]
  },
  {
   "cell_type": "code",
   "execution_count": 80,
   "id": "5c4b7495",
   "metadata": {},
   "outputs": [],
   "source": [
    "df_mortgage_couple.rename(index={0:'provider_a', 1:'provider_b',2:'provider_c',3:'provider_d'},inplace=True)"
   ]
  },
  {
   "cell_type": "code",
   "execution_count": 81,
   "id": "6a76fdf9",
   "metadata": {},
   "outputs": [
    {
     "data": {
      "image/png": "[encoded data removed]",
      "text/plain": [
       "<Figure size 640x480 with 2 Axes>"
      ]
     },
     "metadata": {},
     "output_type": "display_data"
    }
   ],
   "source": [
    "sns.heatmap(data = df_mortgage_couple, annot = True, fmt = '.0f');\n",
    "plt.title('mortgage cost for different deposit options and providers');"
   ]
  },
  {
   "cell_type": "markdown",
   "id": "1715ee25",
   "metadata": {},
   "source": [
    "The potential saving of saving up for a bigger deposit can be up to 100k for couples and 40-50k for single buyers.\n",
    "\n",
    "But..\n",
    "\n",
    "Most people try to save a deposit while paying rent, so customers might end up paying the same amount or more in rent\n",
    "than what they would save on their mortgage costs."
   ]
  },
  {
   "cell_type": "code",
   "execution_count": 82,
   "id": "3144bdd6",
   "metadata": {},
   "outputs": [
    {
     "name": "stdout",
     "output_type": "stream",
     "text": [
      "for 95 ltv, a single buyer would need to save £7278 deposit which will take 29 months and cost you 29000 in rent\n",
      "for 90 ltv, a single buyer would need to save £14557 deposit which will take 58 months and cost you 58000 in rent\n",
      "for 85 ltv, a single buyer would need to save £21835 deposit which will take 87 months and cost you 87000 in rent\n"
     ]
    }
   ],
   "source": [
    "#case a: single buyers paying £1000 in rent and saving £250 per month\n",
    "\n",
    "cost_rent_single = []\n",
    "\n",
    "for d in [95,90,85]:\n",
    "    \n",
    "    dep = int(income * 4.5* (1-0.01*d))\n",
    "    saving = 250\n",
    "    months = int(dep/saving)\n",
    "    rent = months * 1000\n",
    "    cost_rent_single.append(rent)\n",
    "    \n",
    "    print(f'for {d} ltv, a single buyer would\\\n",
    " need to save £{dep} deposit which will take {months} months and cost\\\n",
    " you {rent} in rent')"
   ]
  },
  {
   "cell_type": "code",
   "execution_count": 83,
   "id": "05f466b7",
   "metadata": {},
   "outputs": [
    {
     "name": "stdout",
     "output_type": "stream",
     "text": [
      "for 95 ltv, couples would need to save £14557 deposit which will take 36 months and cost you 48600 in rent\n",
      "for 90 ltv, couples would need to save £29114 deposit which will take 72 months and cost you 97200 in rent\n",
      "for 85 ltv, couples would need to save £43671 deposit which will take 109 months and cost you 147150 in rent\n"
     ]
    }
   ],
   "source": [
    "#case b: couple paying £1350 in rent and saving £400 per month\n",
    "\n",
    "cost_rent_couple = []\n",
    "\n",
    "for d in [95,90,85]:\n",
    "    dep = int(income * 4.5*2* (1-0.01*d))\n",
    "    saving = 400\n",
    "    months = int(dep/saving)\n",
    "    rent = months * 1350\n",
    "    cost_rent_couple.append(rent)\n",
    "    \n",
    "    print(f'for {d} ltv, couples would\\\n",
    " need to save £{dep} deposit which will take {months} months and cost\\\n",
    " you {rent} in rent')"
   ]
  },
  {
   "cell_type": "markdown",
   "id": "6c6afd56",
   "metadata": {},
   "source": [
    "Waiting can be a costly decision..\n",
    "Let's compare cost in rent and savings from mortgage costs in a new df_cost DataFrame"
   ]
  },
  {
   "cell_type": "code",
   "execution_count": 84,
   "id": "7076c0ff",
   "metadata": {},
   "outputs": [],
   "source": [
    "df_cost = df_mortgage_couple.copy()"
   ]
  },
  {
   "cell_type": "code",
   "execution_count": 85,
   "id": "9992bffd",
   "metadata": {},
   "outputs": [],
   "source": [
    "df_cost['10%deposit_saving']= 0.5 *(df_cost.iloc[:,2]).mean() + 0.5*(df_cost.iloc[:,3]).mean() - max(max(df_cost.iloc[:,0]),max(df_cost.iloc[:,1]))\n",
    "df_cost['15%deposit_saving']= 0.5 *(df_cost.iloc[:,4]).mean() + 0.5*(df_cost.iloc[:,5]).mean() - max(max(df_cost.iloc[:,0]),max(df_cost.iloc[:,1]))"
   ]
  },
  {
   "cell_type": "markdown",
   "id": "99076cbc",
   "metadata": {},
   "source": [
    "The above costs compare a situation of 5% deposit holder securing a mortgage at a higher rate due to their low deposit and what would happen if they save up and secure a deal at the average market rate for 10% and 15% deposit options"
   ]
  },
  {
   "cell_type": "code",
   "execution_count": 86,
   "id": "7978b0ff",
   "metadata": {},
   "outputs": [],
   "source": [
    "df_cost= df_cost.iloc[[0],[6,7]]"
   ]
  },
  {
   "cell_type": "code",
   "execution_count": 87,
   "id": "67fb132d",
   "metadata": {},
   "outputs": [
    {
     "data": {
      "text/html": [
       "<div>\n",
       "<style scoped>\n",
       "    .dataframe tbody tr th:only-of-type {\n",
       "        vertical-align: middle;\n",
       "    }\n",
       "\n",
       "    .dataframe tbody tr th {\n",
       "        vertical-align: top;\n",
       "    }\n",
       "\n",
       "    .dataframe thead th {\n",
       "        text-align: right;\n",
       "    }\n",
       "</style>\n",
       "<table border=\"1\" class=\"dataframe\">\n",
       "  <thead>\n",
       "    <tr style=\"text-align: right;\">\n",
       "      <th></th>\n",
       "      <th>10%deposit_saving</th>\n",
       "      <th>15%deposit_saving</th>\n",
       "    </tr>\n",
       "  </thead>\n",
       "  <tbody>\n",
       "    <tr>\n",
       "      <th>provider_a</th>\n",
       "      <td>-56061.732835</td>\n",
       "      <td>-40013.944722</td>\n",
       "    </tr>\n",
       "  </tbody>\n",
       "</table>\n",
       "</div>"
      ],
      "text/plain": [
       "            10%deposit_saving  15%deposit_saving\n",
       "provider_a      -56061.732835      -40013.944722"
      ]
     },
     "execution_count": 87,
     "metadata": {},
     "output_type": "execute_result"
    }
   ],
   "source": [
    "df_cost"
   ]
  },
  {
   "cell_type": "code",
   "execution_count": 88,
   "id": "d014444d",
   "metadata": {},
   "outputs": [],
   "source": [
    "for j in range(2,4):\n",
    "    df_cost[f'{j*5}%deposit_cost'] = cost_rent_couple[j-1]-cost_rent_couple[0]"
   ]
  },
  {
   "cell_type": "code",
   "execution_count": 89,
   "id": "86345032",
   "metadata": {},
   "outputs": [
    {
     "data": {
      "text/html": [
       "<div>\n",
       "<style scoped>\n",
       "    .dataframe tbody tr th:only-of-type {\n",
       "        vertical-align: middle;\n",
       "    }\n",
       "\n",
       "    .dataframe tbody tr th {\n",
       "        vertical-align: top;\n",
       "    }\n",
       "\n",
       "    .dataframe thead th {\n",
       "        text-align: right;\n",
       "    }\n",
       "</style>\n",
       "<table border=\"1\" class=\"dataframe\">\n",
       "  <thead>\n",
       "    <tr style=\"text-align: right;\">\n",
       "      <th></th>\n",
       "      <th>10%deposit_saving</th>\n",
       "      <th>15%deposit_saving</th>\n",
       "      <th>10%deposit_cost</th>\n",
       "      <th>15%deposit_cost</th>\n",
       "    </tr>\n",
       "  </thead>\n",
       "  <tbody>\n",
       "    <tr>\n",
       "      <th>provider_a</th>\n",
       "      <td>-56061.732835</td>\n",
       "      <td>-40013.944722</td>\n",
       "      <td>48600</td>\n",
       "      <td>98550</td>\n",
       "    </tr>\n",
       "  </tbody>\n",
       "</table>\n",
       "</div>"
      ],
      "text/plain": [
       "            10%deposit_saving  15%deposit_saving  10%deposit_cost  \\\n",
       "provider_a      -56061.732835      -40013.944722            48600   \n",
       "\n",
       "            15%deposit_cost  \n",
       "provider_a            98550  "
      ]
     },
     "execution_count": 89,
     "metadata": {},
     "output_type": "execute_result"
    }
   ],
   "source": [
    "df_cost"
   ]
  },
  {
   "cell_type": "code",
   "execution_count": 90,
   "id": "08cfb9a1",
   "metadata": {},
   "outputs": [],
   "source": [
    "df_cost.loc[len(df_cost.index)] = [0.5* df_cost.iloc[0,0],0.5*df_cost.iloc[0,1],\\\n",
    "                                   cost_rent_single[1]-cost_rent_single[0],\\\n",
    "                                   cost_rent_single[2]-cost_rent_single[0]]"
   ]
  },
  {
   "cell_type": "code",
   "execution_count": 91,
   "id": "0d8c1cb5",
   "metadata": {},
   "outputs": [
    {
     "data": {
      "text/html": [
       "<div>\n",
       "<style scoped>\n",
       "    .dataframe tbody tr th:only-of-type {\n",
       "        vertical-align: middle;\n",
       "    }\n",
       "\n",
       "    .dataframe tbody tr th {\n",
       "        vertical-align: top;\n",
       "    }\n",
       "\n",
       "    .dataframe thead th {\n",
       "        text-align: right;\n",
       "    }\n",
       "</style>\n",
       "<table border=\"1\" class=\"dataframe\">\n",
       "  <thead>\n",
       "    <tr style=\"text-align: right;\">\n",
       "      <th></th>\n",
       "      <th>10%deposit_saving</th>\n",
       "      <th>15%deposit_saving</th>\n",
       "      <th>10%deposit_cost</th>\n",
       "      <th>15%deposit_cost</th>\n",
       "    </tr>\n",
       "  </thead>\n",
       "  <tbody>\n",
       "    <tr>\n",
       "      <th>provider_a</th>\n",
       "      <td>-56061.732835</td>\n",
       "      <td>-40013.944722</td>\n",
       "      <td>48600.0</td>\n",
       "      <td>98550.0</td>\n",
       "    </tr>\n",
       "    <tr>\n",
       "      <th>1</th>\n",
       "      <td>-28030.866418</td>\n",
       "      <td>-20006.972361</td>\n",
       "      <td>29000.0</td>\n",
       "      <td>58000.0</td>\n",
       "    </tr>\n",
       "  </tbody>\n",
       "</table>\n",
       "</div>"
      ],
      "text/plain": [
       "            10%deposit_saving  15%deposit_saving  10%deposit_cost  \\\n",
       "provider_a      -56061.732835      -40013.944722          48600.0   \n",
       "1               -28030.866418      -20006.972361          29000.0   \n",
       "\n",
       "            15%deposit_cost  \n",
       "provider_a          98550.0  \n",
       "1                   58000.0  "
      ]
     },
     "execution_count": 91,
     "metadata": {},
     "output_type": "execute_result"
    }
   ],
   "source": [
    "df_cost"
   ]
  },
  {
   "cell_type": "code",
   "execution_count": 92,
   "id": "81ec047d",
   "metadata": {},
   "outputs": [],
   "source": [
    "df_cost = df_cost[['10%deposit_saving','10%deposit_cost','15%deposit_saving','15%deposit_cost']]"
   ]
  },
  {
   "cell_type": "code",
   "execution_count": 93,
   "id": "c64b1c0a",
   "metadata": {},
   "outputs": [],
   "source": [
    "df_cost.rename(index={'provider_a':'couples', 1:'single_buyer'},inplace=True)"
   ]
  },
  {
   "cell_type": "code",
   "execution_count": 94,
   "id": "d96a4aaa",
   "metadata": {},
   "outputs": [],
   "source": [
    "df_cost = df_cost.applymap(abs)"
   ]
  },
  {
   "cell_type": "code",
   "execution_count": 95,
   "id": "8c551f90",
   "metadata": {},
   "outputs": [
    {
     "data": {
      "text/html": [
       "<div>\n",
       "<style scoped>\n",
       "    .dataframe tbody tr th:only-of-type {\n",
       "        vertical-align: middle;\n",
       "    }\n",
       "\n",
       "    .dataframe tbody tr th {\n",
       "        vertical-align: top;\n",
       "    }\n",
       "\n",
       "    .dataframe thead th {\n",
       "        text-align: right;\n",
       "    }\n",
       "</style>\n",
       "<table border=\"1\" class=\"dataframe\">\n",
       "  <thead>\n",
       "    <tr style=\"text-align: right;\">\n",
       "      <th></th>\n",
       "      <th>10%deposit_saving</th>\n",
       "      <th>10%deposit_cost</th>\n",
       "      <th>15%deposit_saving</th>\n",
       "      <th>15%deposit_cost</th>\n",
       "    </tr>\n",
       "  </thead>\n",
       "  <tbody>\n",
       "    <tr>\n",
       "      <th>couples</th>\n",
       "      <td>56061.732835</td>\n",
       "      <td>48600.0</td>\n",
       "      <td>40013.944722</td>\n",
       "      <td>98550.0</td>\n",
       "    </tr>\n",
       "    <tr>\n",
       "      <th>single_buyer</th>\n",
       "      <td>28030.866418</td>\n",
       "      <td>29000.0</td>\n",
       "      <td>20006.972361</td>\n",
       "      <td>58000.0</td>\n",
       "    </tr>\n",
       "  </tbody>\n",
       "</table>\n",
       "</div>"
      ],
      "text/plain": [
       "              10%deposit_saving  10%deposit_cost  15%deposit_saving  \\\n",
       "couples            56061.732835          48600.0       40013.944722   \n",
       "single_buyer       28030.866418          29000.0       20006.972361   \n",
       "\n",
       "              15%deposit_cost  \n",
       "couples               98550.0  \n",
       "single_buyer          58000.0  "
      ]
     },
     "execution_count": 95,
     "metadata": {},
     "output_type": "execute_result"
    }
   ],
   "source": [
    "df_cost"
   ]
  },
  {
   "cell_type": "code",
   "execution_count": 96,
   "id": "01b3bb74",
   "metadata": {},
   "outputs": [
    {
     "data": {
      "image/png": "[encoded data removed]",
      "text/plain": [
       "<Figure size 640x480 with 1 Axes>"
      ]
     },
     "metadata": {},
     "output_type": "display_data"
    }
   ],
   "source": [
    "df_cost.plot.bar(title='cost and saving compared to 5% deposit',\\\n",
    "                  ylabel = 'cost vs savings[£]', \\\n",
    "                  );\n",
    "plt.grid()"
   ]
  },
  {
   "cell_type": "markdown",
   "id": "a10f547b",
   "metadata": {},
   "source": [
    "It turns out indeed, especially when trying to save for a 15% deposit, that savings on the mortgage costs are outstripped by rent paid over the years"
   ]
  },
  {
   "cell_type": "code",
   "execution_count": null,
   "id": "5f4ba83e",
   "metadata": {},
   "outputs": [],
   "source": []
  }
 ],
 "metadata": {
  "kernelspec": {
   "display_name": "Python 3 (ipykernel)",
   "language": "python",
   "name": "python3"
  },
  "language_info": {
   "codemirror_mode": {
    "name": "ipython",
    "version": 3
   },
   "file_extension": ".py",
   "mimetype": "text/x-python",
   "name": "python",
   "nbconvert_exporter": "python",
   "pygments_lexer": "ipython3",
   "version": "3.11.5"
  }
 },
 "nbformat": 4,
 "nbformat_minor": 5
}
